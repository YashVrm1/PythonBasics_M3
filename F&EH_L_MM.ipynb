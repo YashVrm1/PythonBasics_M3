{
  "cells": [
    {
      "cell_type": "markdown",
      "source": [
        "#Yash Verma Assignment on Files, Exceptional Handling, Hogging and Memory Management."
      ],
      "metadata": {
        "id": "k98vuzUvXJOe"
      },
      "id": "k98vuzUvXJOe"
    },
    {
      "cell_type": "markdown",
      "source": [
        "#Theoratical Questions"
      ],
      "metadata": {
        "id": "kyvgfHfQXjQ6"
      },
      "id": "kyvgfHfQXjQ6"
    },
    {
      "cell_type": "markdown",
      "id": "bdd8a672",
      "metadata": {
        "id": "bdd8a672"
      },
      "source": [
        "### Q1. What is the difference between interpreted and compiled languages?\n",
        "**Answer:** Interpreted: Runs code line by line (Python). Compiled: Converts whole code to machine code before running (C, C++).\n",
        "\n",
        "```Example: Python is interpreted, so errors stop the program immediately when reached. ```"
      ]
    },
    {
      "cell_type": "markdown",
      "id": "241f1a9c",
      "metadata": {
        "id": "241f1a9c"
      },
      "source": [
        "### Q.2 What is exception handling in Python\n",
        "**Answer:** A way to handle errors without stopping the program.\n",
        "\n",
        "```\n",
        "Example:\n",
        "try:\n",
        "  x = 1/0\n",
        "except ZeroDivisionError:\n",
        "  print('Cannot divide by zero')\n",
        "\n",
        "```"
      ]
    },
    {
      "cell_type": "markdown",
      "id": "fdf64566",
      "metadata": {
        "id": "fdf64566"
      },
      "source": [
        "### Q3. What is the purpose of the finally block in exception handling\n",
        "**Answer:** The finally block runs no matter what, for cleanup work.\n",
        "\n",
        "```\n",
        "Example:\n",
        "try:\n",
        "    file = open('test.txt')\n",
        "finally:\n",
        "    file.close()\n",
        "   \n",
        "```"
      ]
    },
    {
      "cell_type": "markdown",
      "id": "74d877c1",
      "metadata": {
        "id": "74d877c1"
      },
      "source": [
        "### Q4. What is logging in Python\n",
        "**Answer:** Logging records events or errors during program execution.\n",
        "\n",
        "```\n",
        "Example:\n",
        "import logging\n",
        "logging.warning('This is a warning')\n",
        "\n",
        "```"
      ]
    },
    {
      "cell_type": "markdown",
      "id": "db57fdd5",
      "metadata": {
        "id": "db57fdd5"
      },
      "source": [
        "### Q5. What is the significance of the __del__ method in Python\n",
        "\n",
        "**Answer:** __del__ is called when an object is deleted to clean up resources.\n",
        "\n",
        "```\n",
        "Example:\n",
        "class Test:\n",
        "    def __del__(self):\n",
        "        print('Object deleted')\n",
        "\n",
        "```        "
      ]
    },
    {
      "cell_type": "markdown",
      "id": "b0d1d946",
      "metadata": {
        "id": "b0d1d946"
      },
      "source": [
        "### Q6. What is the difference between import and from ... import in Python\n",
        "**Answer:** import brings the whole module. from ... import brings specific functions or variables.\n",
        "\n",
        "```\n",
        "Example:\n",
        "import math\n",
        "print(math.sqrt(4))\n",
        "from math import sqrt\n",
        "print(sqrt(4))\n",
        "\n",
        "```"
      ]
    },
    {
      "cell_type": "markdown",
      "id": "7a1ee5e4",
      "metadata": {
        "id": "7a1ee5e4"
      },
      "source": [
        "### Q7. How can you handle multiple exceptions in Python\n",
        "**Answer:** Use multiple except blocks or a tuple of exceptions in one except.\n",
        "\n",
        "```\n",
        "Example:\n",
        "try:\n",
        "    x = int('abc')\n",
        "except (ValueError, TypeError):\n",
        "    print('Error occurred')\n",
        "```"
      ]
    },
    {
      "cell_type": "markdown",
      "id": "4de264b8",
      "metadata": {
        "id": "4de264b8"
      },
      "source": [
        "### Q8.What is the purpose of the with statement when handling files in Python\n",
        "**Answer:** with closes the file automatically after use.\n",
        "\n",
        "```\n",
        "\n",
        "Example:\n",
        "with open('test.txt', 'r') as f:\n",
        "    data = f.read()\n",
        "\n",
        "```    "
      ]
    },
    {
      "cell_type": "markdown",
      "id": "b26850d6",
      "metadata": {
        "id": "b26850d6"
      },
      "source": [
        "### Q9. What is the difference between multithreading and multiprocessing\n",
        "**Answer:** Multithreading uses multiple threads (shared memory). Multiprocessing uses separate processes (independent memory).\n",
        "\n",
        "```Example: Use multiprocessing for CPU-heavy tasks, threads for I/O tasks.```"
      ]
    },
    {
      "cell_type": "markdown",
      "id": "b1341b70",
      "metadata": {
        "id": "b1341b70"
      },
      "source": [
        "### Q10. What are the advantages of using logging in a program\n",
        "**Answer:** Helps track problems, debug easily, and keep error records.\n",
        "\n",
        "```Example: Save errors to a log file instead of printing them.```"
      ]
    },
    {
      "cell_type": "markdown",
      "id": "8ecbde7f",
      "metadata": {
        "id": "8ecbde7f"
      },
      "source": [
        "### Q11. What is memory management in Python\n",
        "**Answer:** Managing memory usage of objects and variables in Python.\n",
        "\n",
        "``` Example: Python automatically frees unused memory using garbage collection.```"
      ]
    },
    {
      "cell_type": "markdown",
      "id": "0a7d47ef",
      "metadata": {
        "id": "0a7d47ef"
      },
      "source": [
        "### Q12. What are the basic steps involved in exception handling in Python\n",
        "**Answer:** Use try → except → else → finally.\n",
        "\n",
        "```Example:\n",
        "try:\n",
        "    print(10/2)\n",
        "except ZeroDivisionError:\n",
        "    print('Error')\n",
        "else:\n",
        "    print('No error')\n",
        "finally:\n",
        "    print('Done')\n",
        "\n",
        "  ```  "
      ]
    },
    {
      "cell_type": "markdown",
      "id": "d12f6c70",
      "metadata": {
        "id": "d12f6c70"
      },
      "source": [
        "### Q13. Why is memory management important in Python\n",
        "**Answer:** It prevents memory leaks and keeps the program efficient.\n",
        "\n",
        "```Example: Deleting large unused lists to free memory.```"
      ]
    },
    {
      "cell_type": "markdown",
      "id": "b907dcec",
      "metadata": {
        "id": "b907dcec"
      },
      "source": [
        "### Q14. What is the role of try and except in exception handling\n",
        "**Answer:** try runs code, except handles errors.\n",
        "\n",
        "```\n",
        "Example:\n",
        "try:\n",
        "    print(1/0)\n",
        "except ZeroDivisionError:\n",
        "    print('Cannot divide')\n",
        "    \n",
        "```"
      ]
    },
    {
      "cell_type": "markdown",
      "id": "fecba348",
      "metadata": {
        "id": "fecba348"
      },
      "source": [
        "### Q15. How does Python's garbage collection system work\n",
        "**Answer:** It frees unused objects automatically using reference counting and garbage collection.\n",
        "\n",
        "```Example: Objects with no references are deleted.```"
      ]
    },
    {
      "cell_type": "markdown",
      "id": "da7690fb",
      "metadata": {
        "id": "da7690fb"
      },
      "source": [
        "### Q16. What is the purpose of the else block in exception handling\n",
        "**Answer:** Runs if no error happens in try block.\n",
        "\n",
        "```Example:\n",
        "try:\n",
        "    print(2+2)\n",
        "except:\n",
        "    print('Error')\n",
        "else:\n",
        "    print('Success')\n",
        "```    "
      ]
    },
    {
      "cell_type": "markdown",
      "id": "50eef15d",
      "metadata": {
        "id": "50eef15d"
      },
      "source": [
        "### Q17. What are the common logging levels in Python\n",
        "**Answer:** DEBUG, INFO, WARNING, ERROR, CRITICAL.\n",
        "\n",
        "```\n",
        "\n",
        "Example:\n",
        "import logging\n",
        "logging.error('Something went wrong')\n",
        "\n",
        "```"
      ]
    },
    {
      "cell_type": "markdown",
      "id": "2e1d9733",
      "metadata": {
        "id": "2e1d9733"
      },
      "source": [
        "### Q18. What is the difference between os.fork() and multiprocessing in Python\n",
        "**Answer:** os.fork() creates a child process (Unix only). multiprocessing works on all OS and is higher-level.\n",
        "\n",
        "``` Example: Use multiprocessing for cross-platform code.```"
      ]
    },
    {
      "cell_type": "markdown",
      "id": "2d757906",
      "metadata": {
        "id": "2d757906"
      },
      "source": [
        "### Q19.What is the importance of closing a file in Python\n",
        "**Answer:** To save data and free system resources.\n",
        "\n",
        "```\n",
        "\n",
        "Example:\n",
        "f = open('file.txt')\n",
        "f.close()\n",
        "\n",
        "```"
      ]
    },
    {
      "cell_type": "markdown",
      "id": "b0a24ffd",
      "metadata": {
        "id": "b0a24ffd"
      },
      "source": [
        "### Q20. What is the difference between file.read() and file.readline() in Python\n",
        "**Answer:** file.read() reads the whole file. file.readline() reads one line.\n",
        "```\n",
        "Example:\n",
        "line = file.readline()\n",
        "\n",
        "line = file.read()\n",
        "\n",
        "```"
      ]
    },
    {
      "cell_type": "markdown",
      "id": "189e8961",
      "metadata": {
        "id": "189e8961"
      },
      "source": [
        "### Q21. What is the logging module in Python used for\n",
        "**Answer:** To record messages, errors, or information about program execution.\n",
        "\n",
        "```\n",
        "\n",
        "Example:\n",
        "import logging\n",
        "logging.info('Program started')\n",
        "\n",
        "```"
      ]
    },
    {
      "cell_type": "markdown",
      "id": "ce7a7691",
      "metadata": {
        "id": "ce7a7691"
      },
      "source": [
        "### Q22. What is the os module in Python used for in file handling\n",
        "**Answer:** To interact with the operating system for tasks like file handling.\n",
        "\n",
        "```\n",
        "\n",
        "Example:\n",
        "import os\n",
        "os.remove('file.txt')\n",
        "\n",
        "```"
      ]
    },
    {
      "cell_type": "markdown",
      "id": "a67259ad",
      "metadata": {
        "id": "a67259ad"
      },
      "source": [
        "###Q23. What are the challenges associated with memory management in Python\n",
        "**Answer:** Tracking object references, cleaning unused objects, memory fragmentation.\n",
        "\n",
        "``` Example: Circular references can delay memory cleanup.```"
      ]
    },
    {
      "cell_type": "markdown",
      "id": "34d9cf22",
      "metadata": {
        "id": "34d9cf22"
      },
      "source": [
        "### Q24. How do you raise an exception manually in Python\n",
        "**Answer:** Use raise Exception('message').\n",
        "```\n",
        "Example:\n",
        "raise ValueError('Invalid value')\n",
        "\n",
        "```"
      ]
    },
    {
      "cell_type": "markdown",
      "id": "8e62a4c9",
      "metadata": {
        "id": "8e62a4c9"
      },
      "source": [
        "### Q25. Why is it important to use multithreading in certain applications?\n",
        "**Answer:** It speeds up programs where tasks can run at the same time.\n",
        "\n",
        "``` Example: Downloading multiple files together. ```"
      ]
    },
    {
      "cell_type": "markdown",
      "source": [
        "#Practical Questions"
      ],
      "metadata": {
        "id": "cH2GzFK67GXh"
      },
      "id": "cH2GzFK67GXh"
    },
    {
      "cell_type": "code",
      "source": [
        "#Q1. How can you open a file for writing in Python and write a string to it?\n",
        "\n",
        "f = open(\"file.txt\",\"w\")\n",
        "f.write(\"Hello this is my first file \\n\")\n",
        "f.write(\"This is line 1st \\n\")\n",
        "f.write(\"This is line 2nd\")\n",
        "f.close()\n"
      ],
      "metadata": {
        "id": "4ZbDcVpk7Jjd"
      },
      "id": "4ZbDcVpk7Jjd",
      "execution_count": 1,
      "outputs": []
    },
    {
      "cell_type": "code",
      "source": [
        "#Q2.Write a Python program to read the contents of a file and print each line?\n",
        "\n",
        "f = open(\"file.txt\",\"r\")\n",
        "for i in range(3):\n",
        "  line = f.readline()\n",
        "  print(line)\n"
      ],
      "metadata": {
        "colab": {
          "base_uri": "https://localhost:8080/"
        },
        "id": "H-y3oowl7SHC",
        "outputId": "98647677-f705-4604-a634-719d15352ddd"
      },
      "id": "H-y3oowl7SHC",
      "execution_count": 2,
      "outputs": [
        {
          "output_type": "stream",
          "name": "stdout",
          "text": [
            "Hello this is my first file \n",
            "\n",
            "This is line 1st \n",
            "\n",
            "This is line 2nd\n"
          ]
        }
      ]
    },
    {
      "cell_type": "code",
      "source": [
        "# Q3. How would you handle a case where the file doesn't exist while trying to open it for reading\n",
        "\n",
        "try:\n",
        "\n",
        "   with open(\"text.txt\", \"r\") as f:\n",
        "    content = f.read()\n",
        "    print(content)\n",
        "\n",
        "except Exception as e:\n",
        "\n",
        "  print(e)"
      ],
      "metadata": {
        "colab": {
          "base_uri": "https://localhost:8080/"
        },
        "id": "FfDkzjuw7TYx",
        "outputId": "60ff5f8f-02db-4970-c271-f59f057745c6"
      },
      "id": "FfDkzjuw7TYx",
      "execution_count": 3,
      "outputs": [
        {
          "output_type": "stream",
          "name": "stdout",
          "text": [
            "[Errno 2] No such file or directory: 'text.txt'\n"
          ]
        }
      ]
    },
    {
      "cell_type": "code",
      "source": [
        "#Q4.Write a Python script that reads from one file and writes its content to another file?\n",
        "\n",
        "with open(\"first.txt\", \"w\") as f:\n",
        "  f.write(\"This is the first file\")\n",
        "\n",
        "with open(\"first.txt\", \"r\") as o:\n",
        "  content = o.read()\n",
        "\n",
        "with open(\"second.txt\", \"w\") as s:\n",
        "  s.write(content)\n",
        "\n"
      ],
      "metadata": {
        "id": "dLaHr9W97VPD"
      },
      "id": "dLaHr9W97VPD",
      "execution_count": 4,
      "outputs": []
    },
    {
      "cell_type": "code",
      "source": [
        "#Q5.How would you catch and handle division by zero error in Python?\n",
        "\n",
        "try:\n",
        "    a = 10\n",
        "    b = 0\n",
        "    c = a / b\n",
        "    print(c)\n",
        "except ZeroDivisionError as e:\n",
        "    print(\"Division by zero is not allowed:\", e)"
      ],
      "metadata": {
        "colab": {
          "base_uri": "https://localhost:8080/"
        },
        "id": "kjexPhXz7V9U",
        "outputId": "80c2558c-d406-4027-8c43-6cd45113ea8f"
      },
      "id": "kjexPhXz7V9U",
      "execution_count": 5,
      "outputs": [
        {
          "output_type": "stream",
          "name": "stdout",
          "text": [
            "Division by zero is not allowed: division by zero\n"
          ]
        }
      ]
    },
    {
      "cell_type": "code",
      "source": [
        "#Q6.Write a Python program that logs an error message to a log file when a division by zero exception occurs?\n",
        "\n",
        "import logging\n",
        "\n",
        "logging.basicConfig(\n",
        "    filename=\"track.log\",\n",
        "    level=logging.ERROR,\n",
        "    format=\"%(asctime)s - %(levelname)s - %(message)s\",\n",
        "    force = True\n",
        ")\n",
        "\n",
        "try:\n",
        "    a = 10\n",
        "    b = 0\n",
        "    c = a / b\n",
        "    print(c)\n",
        "\n",
        "except ZeroDivisionError as e:\n",
        "    logging.error(\"Division by Zero Error: %s\", e)\n",
        "    print(\"Division by zero is not allowed:\", e)\n",
        "\n",
        "logging.shutdown()\n",
        "\n",
        "\n",
        "\n"
      ],
      "metadata": {
        "colab": {
          "base_uri": "https://localhost:8080/"
        },
        "id": "LZa-5a207ZOI",
        "outputId": "869c2fb7-8271-4c21-b9a0-e4acbea25bf0"
      },
      "id": "LZa-5a207ZOI",
      "execution_count": 6,
      "outputs": [
        {
          "output_type": "stream",
          "name": "stdout",
          "text": [
            "Division by zero is not allowed: division by zero\n"
          ]
        }
      ]
    },
    {
      "cell_type": "code",
      "source": [
        "#Q7.How do you log information at different levels (INFO, ERROR, WARNING) in Python using the logging module?\n",
        "\n",
        "import logging\n",
        "\n",
        "logging.basicConfig(level = logging.INFO, force = True)\n",
        "logging.info(\"Error Info\")\n",
        "logging.warning(\"Error Warning\")\n",
        "logging.error(\"Error ERROR\")\n",
        "\n",
        "'''INFO and WARNING messages may only appear in the notebook output, not in\n",
        "track.log. ERROR messages get saved to track.log because Colab’s internal\n",
        "default file handler is configured to capture only ERROR-level logs.'''"
      ],
      "metadata": {
        "colab": {
          "base_uri": "https://localhost:8080/",
          "height": 105
        },
        "id": "5RoeXo-j7bMa",
        "outputId": "104ec1c9-e036-4f35-b3cb-078da829a4ae"
      },
      "id": "5RoeXo-j7bMa",
      "execution_count": 7,
      "outputs": [
        {
          "output_type": "stream",
          "name": "stderr",
          "text": [
            "INFO:root:Error Info\n",
            "WARNING:root:Error Warning\n",
            "ERROR:root:Error ERROR\n"
          ]
        },
        {
          "output_type": "execute_result",
          "data": {
            "text/plain": [
              "'INFO and WARNING messages may only appear in the notebook output, not in\\ntrack.log. ERROR messages get saved to track.log because Colab’s internal \\ndefault file handler is configured to capture only ERROR-level logs.'"
            ],
            "application/vnd.google.colaboratory.intrinsic+json": {
              "type": "string"
            }
          },
          "metadata": {},
          "execution_count": 7
        }
      ]
    },
    {
      "cell_type": "code",
      "source": [
        "#Q8. Write a program to handle a file opening error using exception handling?\n",
        "\n",
        "try:\n",
        "  file_name = input(\"Enter file name with extention \")\n",
        "  with open(file_name, \"r\") as f:\n",
        "    content = f.read()\n",
        "    print(content)\n",
        "\n",
        "except FileNotFoundError as e:\n",
        "  print(f\"Error: The file '{file_name}' was not found.\")\n",
        "  print(\"Details:\", e)\n",
        "\n"
      ],
      "metadata": {
        "colab": {
          "base_uri": "https://localhost:8080/"
        },
        "id": "MEMmM3cB7dFm",
        "outputId": "1911f104-957a-4e40-ea85-19ea3b5238b4"
      },
      "id": "MEMmM3cB7dFm",
      "execution_count": 8,
      "outputs": [
        {
          "output_type": "stream",
          "name": "stdout",
          "text": [
            "Enter file name with extention file.txt\n",
            "Hello this is my first file \n",
            "This is line 1st \n",
            "This is line 2nd\n"
          ]
        }
      ]
    },
    {
      "cell_type": "code",
      "source": [
        "#Q9. How can you read a file line by line and store its content in a list in Python?\n",
        "\n",
        "with open(\"book.txt\",\"w\") as l:\n",
        "\n",
        "  l.write(\"This is the first line \\n\")\n",
        "  l.write(\"This is the second line \\n\")\n",
        "  l.write(\"This is the third line \\n\")\n",
        "\n",
        "with open(\"book.txt\",\"r\") as s:\n",
        "  a = []\n",
        "  for i in s:\n",
        "    a.append(i.strip())\n",
        "  print(a)\n",
        "\n",
        "\n"
      ],
      "metadata": {
        "colab": {
          "base_uri": "https://localhost:8080/"
        },
        "id": "ZWglVWHX7eIz",
        "outputId": "d2763705-b38c-4432-ca56-2f8f143f5c3e"
      },
      "id": "ZWglVWHX7eIz",
      "execution_count": 9,
      "outputs": [
        {
          "output_type": "stream",
          "name": "stdout",
          "text": [
            "['This is the first line', 'This is the second line', 'This is the third line']\n"
          ]
        }
      ]
    },
    {
      "cell_type": "code",
      "source": [
        "#Q10.How can you append data to an existing file in Python?\n",
        "\n",
        "with open(\"book.txt\", \"a\") as l:\n",
        "  l.write(\"This is the fourth line\")"
      ],
      "metadata": {
        "id": "zHonNBtv7fYG"
      },
      "id": "zHonNBtv7fYG",
      "execution_count": 10,
      "outputs": []
    },
    {
      "cell_type": "code",
      "source": [
        "#Q11. Write a Python program that uses a try-except block to handle an error when attempting to access a dictionary key that doesn't exist?\n",
        "\n",
        "dictionary = {\"Name\": \"Yash\", \"Age\": 29, \"City\": \"Banglore\",\"Pin-Code\": 246}\n",
        "\n",
        "try:\n",
        "\n",
        "  key = input(\"Enter key you want to access: \")\n",
        "  print(dictionary[key])\n",
        "\n",
        "except KeyError  as e:\n",
        "\n",
        "  print(f\"Error: The key '{key}' was not found in the dictionary.\")\n",
        "  print(\"Details:\", e)\n",
        "\n",
        "#.get() → does not raise an error → except won’t run. If the key doesn’t\n",
        "#exist, it just returns None\n"
      ],
      "metadata": {
        "colab": {
          "base_uri": "https://localhost:8080/"
        },
        "id": "10DIHdcz7fxW",
        "outputId": "2cdf7c00-7a9c-46fe-e601-c929f30819a5"
      },
      "id": "10DIHdcz7fxW",
      "execution_count": 11,
      "outputs": [
        {
          "output_type": "stream",
          "name": "stdout",
          "text": [
            "Enter key you want to access: Name\n",
            "Yash\n"
          ]
        }
      ]
    },
    {
      "cell_type": "code",
      "source": [
        "#Q12.Write a program that demonstrates using multiple except blocks to handle different types of exceptions?\n",
        "\n",
        "try:\n",
        "\n",
        "  a = int(input(\"Enter the first value: \"))\n",
        "  b = int(input(\"Enter the second value: \"))\n",
        "  c = input(\"Enter symbol '+' '-' '/' '*' to perform arithmetcic operation on a and b: \")\n",
        "\n",
        "  if c == \"+\":\n",
        "    print(f\"Result: {a + b}\")\n",
        "\n",
        "  elif c == \"-\":\n",
        "    print(f\"Result: {a - b}\")\n",
        "\n",
        "  elif c == \"/\":\n",
        "    print(f\"Result: {a / b}\")\n",
        "\n",
        "  elif c == \"*\":\n",
        "        print(f\"Result: {a * b}\")\n",
        "\n",
        "  else:\n",
        "        raise TypeError(f\"Invalid operator '{c}'. Must be one of '+', '-', '*', '/'.\")\n",
        "\n",
        "\n",
        "except ValueError as e:\n",
        "  print(\"Enter numerical Value:\", e)\n",
        "\n",
        "except ZeroDivisionError as e:\n",
        "  print(\"Denominator cannot be zero:\", e)\n",
        "\n",
        "except TypeError as e:\n",
        "  print(\"Not proper operator: \", e)\n",
        "\n",
        "except Exception as e:\n",
        "  print(e)\n",
        "\n",
        "\n",
        "\n",
        "\n"
      ],
      "metadata": {
        "colab": {
          "base_uri": "https://localhost:8080/"
        },
        "id": "F1pBrtoT7hd1",
        "outputId": "cbef60b6-830e-424e-9ae4-cd6f02fd2e3b"
      },
      "id": "F1pBrtoT7hd1",
      "execution_count": 13,
      "outputs": [
        {
          "output_type": "stream",
          "name": "stdout",
          "text": [
            "Enter the first value: 10\n",
            "Enter the second value: 20\n",
            "Enter symbol '+' '-' '/' '*' to perform arithmetcic operation on a and b: #\n",
            "Not proper operator:  Invalid operator '#'. Must be one of '+', '-', '*', '/'.\n"
          ]
        }
      ]
    },
    {
      "cell_type": "code",
      "source": [
        "#Q13. How would you check if a file exists before attempting to read it in Python?\n",
        "\n",
        "import os\n",
        "\n",
        "file_name = \"book.txt\"\n",
        "if os.path.exists(file_name):\n",
        "\n",
        "    with open(file_name, \"r\") as f:\n",
        "        content = f.read()\n",
        "        print(content)\n",
        "else:\n",
        "\n",
        "    print(f\"The file '{file_name}' does not exist.\")\n"
      ],
      "metadata": {
        "colab": {
          "base_uri": "https://localhost:8080/"
        },
        "id": "8_zNuaib7ija",
        "outputId": "39be99d8-94de-4db7-b244-f6a5a2cbd034"
      },
      "id": "8_zNuaib7ija",
      "execution_count": 14,
      "outputs": [
        {
          "output_type": "stream",
          "name": "stdout",
          "text": [
            "This is the first line \n",
            "This is the second line \n",
            "This is the third line \n",
            "This is the fourth line\n"
          ]
        }
      ]
    },
    {
      "cell_type": "code",
      "source": [
        "#Q14.Write a program that uses the logging module to log both informational and error messages?\n",
        "\n",
        "import logging\n",
        "logging.basicConfig(level = logging.INFO, force = True)\n",
        "\n",
        "\n",
        "a = int(input(\"Enter the first value: \"))\n",
        "b = int(input(\"Enter the second value: \"))\n",
        "c = 0\n",
        "\n",
        "if b != 0:\n",
        "  c = a/b\n",
        "  logging.info(f\"Code ran successfully {c}\")\n",
        "else:\n",
        "  logging.error(\"Zero Division error\")"
      ],
      "metadata": {
        "colab": {
          "base_uri": "https://localhost:8080/"
        },
        "id": "MEzSawin7jJy",
        "outputId": "507f4bc8-a087-421d-ba67-d1c3b8c38c4c"
      },
      "id": "MEzSawin7jJy",
      "execution_count": 15,
      "outputs": [
        {
          "name": "stdout",
          "output_type": "stream",
          "text": [
            "Enter the first value: 10\n",
            "Enter the second value: 0\n"
          ]
        },
        {
          "output_type": "stream",
          "name": "stderr",
          "text": [
            "ERROR:root:Zero Division error\n"
          ]
        }
      ]
    },
    {
      "cell_type": "code",
      "source": [
        "#Q15. Write a Python program that prints the content of a file and handles the case when the file is empty?\n",
        "\n",
        "import os\n",
        "\n",
        "with open(\"book.txt\", \"w\") as f:\n",
        "  f.write(\"\")\n",
        "\n",
        "try:\n",
        "\n",
        "  file_name = \"book.txt\"\n",
        "  if os.path.exists(file_name):\n",
        "\n",
        "    if os.path.getsize(file_name) == 0:\n",
        "\n",
        "      print(f\"The file {file_name} is empty\")\n",
        "\n",
        "    else:\n",
        "\n",
        "      with open(file_name, \"r\") as f:\n",
        "          content = f.read()\n",
        "          print(content)\n",
        "  else:\n",
        "\n",
        "      print(f\"The file '{file_name}' does not exist.\")\n",
        "\n",
        "except Exception as e:\n",
        "  print(e)\n",
        "\n"
      ],
      "metadata": {
        "colab": {
          "base_uri": "https://localhost:8080/"
        },
        "id": "Mcu1vr2N7kdE",
        "outputId": "ecc27780-11d3-429e-f9c6-5cb4911d7e80"
      },
      "id": "Mcu1vr2N7kdE",
      "execution_count": 16,
      "outputs": [
        {
          "output_type": "stream",
          "name": "stdout",
          "text": [
            "The file book.txt is empty\n"
          ]
        }
      ]
    },
    {
      "cell_type": "code",
      "source": [
        "#Q16.Demonstrate how to use memory profiling to check the memory usage of a small program?\n",
        "\n",
        "!pip install memory-profiler\n",
        "from memory_profiler import memory_usage\n",
        "def create_list():\n",
        "    my_list = []\n",
        "    for i in range(100000):\n",
        "        my_list.append(i)\n",
        "    return my_list\n",
        "mem_usage = memory_usage(create_list)\n",
        "print(f\"Memory usage during execution: {mem_usage} MiB\")\n",
        "\n",
        "\n"
      ],
      "metadata": {
        "colab": {
          "base_uri": "https://localhost:8080/"
        },
        "id": "s3qHEJIM7mIG",
        "outputId": "c4db786c-f9d5-469d-c605-577d484bc6b5"
      },
      "id": "s3qHEJIM7mIG",
      "execution_count": 17,
      "outputs": [
        {
          "output_type": "stream",
          "name": "stdout",
          "text": [
            "Collecting memory-profiler\n",
            "  Downloading memory_profiler-0.61.0-py3-none-any.whl.metadata (20 kB)\n",
            "Requirement already satisfied: psutil in /usr/local/lib/python3.11/dist-packages (from memory-profiler) (5.9.5)\n",
            "Downloading memory_profiler-0.61.0-py3-none-any.whl (31 kB)\n",
            "Installing collected packages: memory-profiler\n",
            "Successfully installed memory-profiler-0.61.0\n",
            "Memory usage during execution: [120.453125, 120.45703125, 120.61328125, 121.00390625, 121.00390625, 121.00390625, 121.00390625, 121.00390625, 121.00390625, 121.00390625, 120.00390625] MiB\n"
          ]
        }
      ]
    },
    {
      "cell_type": "code",
      "source": [
        "#Q17.Write a Python program to create and write a list of numbers to a file, one number per line?\n",
        "\n",
        "l1 = list(map(int,input(\"Enter numbers with space: \").split()))\n",
        "with open(\"list.txt\",\"w\") as f:\n",
        "  for i in l1:\n",
        "    f.write(str(i) + \"\\n\")\n",
        "\n",
        "\n"
      ],
      "metadata": {
        "colab": {
          "base_uri": "https://localhost:8080/"
        },
        "id": "RfEIXAVN7nKC",
        "outputId": "28b098a1-4a50-4cbf-b0ed-b4ba729fcd4e"
      },
      "id": "RfEIXAVN7nKC",
      "execution_count": 18,
      "outputs": [
        {
          "name": "stdout",
          "output_type": "stream",
          "text": [
            "Enter numbers with space: 1 2 3 4 5 6 7 8 9\n"
          ]
        }
      ]
    },
    {
      "cell_type": "code",
      "source": [
        "#Q18.How would you implement a basic logging setup that logs to a file with rotation after 1MB?\n",
        "\n",
        "\n"
      ],
      "metadata": {
        "id": "n7uxla_J7oLY"
      },
      "id": "n7uxla_J7oLY",
      "execution_count": null,
      "outputs": []
    },
    {
      "cell_type": "code",
      "source": [
        "#Q19. Write a program that handles both IndexError and KeyError using a try-except block?\n",
        "\n",
        "dictionary = {\"Name\": \"Yash\", \"Age\": 29, \"City\": \"Banglore\",\"Pin-Code\": 246}\n",
        "my_list = [\"Rajat\", \"Sharma\", True, 20 , 3+4j]\n",
        "\n",
        "try:\n",
        "\n",
        "  key = input(\"Enter key you want to access: \")\n",
        "  print(dictionary[key])\n",
        "\n",
        "  index = int(input(\"Enter the index position you want to access: \"))\n",
        "  print(my_list[index])\n",
        "\n",
        "except KeyError  as e:\n",
        "\n",
        "  print(f\"Error: The key '{key}' was not found in the dictionary.\")\n",
        "  print(\"Details:\", e)\n",
        "\n",
        "except IndexError as e:\n",
        "\n",
        "  print(f\"Error: - Wrong Index Position \", e)\n",
        "\n"
      ],
      "metadata": {
        "colab": {
          "base_uri": "https://localhost:8080/"
        },
        "id": "MIMSA5IH7qH-",
        "outputId": "80562326-f45c-45d8-ad1a-8e017f63e217"
      },
      "id": "MIMSA5IH7qH-",
      "execution_count": 19,
      "outputs": [
        {
          "output_type": "stream",
          "name": "stdout",
          "text": [
            "Enter key you want to access: Name\n",
            "Yash\n",
            "Enter the index position you want to access: 6\n",
            "Error: - Wrong Index Position  list index out of range\n"
          ]
        }
      ]
    },
    {
      "cell_type": "code",
      "source": [
        "#Q20. How would you open a file and read its contents using a context manager in Python?\n",
        "\n",
        "with open(\"list.txt\", \"r\") as f:\n",
        "  content = f.read()\n",
        "  print(content)\n"
      ],
      "metadata": {
        "colab": {
          "base_uri": "https://localhost:8080/"
        },
        "id": "IfQIybIV7rzI",
        "outputId": "7eceb26c-d35d-41e3-eeeb-23849cc527e5"
      },
      "id": "IfQIybIV7rzI",
      "execution_count": 20,
      "outputs": [
        {
          "output_type": "stream",
          "name": "stdout",
          "text": [
            "1\n",
            "2\n",
            "3\n",
            "4\n",
            "5\n",
            "6\n",
            "7\n",
            "8\n",
            "9\n",
            "\n"
          ]
        }
      ]
    },
    {
      "cell_type": "code",
      "source": [
        "#Q21.Write a Python program that reads a file and prints the number of occurrences of a specific word??\n",
        "\n",
        "with open(\"intro.txt\",\"w\") as s:\n",
        "  s.write(\"I am Yash \\n\")\n",
        "  s.write(\"I am from UP \\n\")\n",
        "  s.write(\"I am studying DS and AI from PWSKILLS \\n\")\n",
        "  s.write(\"I am enjoying my python learning journey \\n\")\n",
        "\n",
        "with open(\"intro.txt\", \"r\") as s:\n",
        "  content = s.readlines()\n",
        "  words = \" \".join(content).upper().split()\n",
        "\n",
        "  input_word = input(\"Enter the word you want to check for the number of occurences: \")\n",
        "  check_word = input_word.upper()\n",
        "  count_occ = 0\n",
        "\n",
        "  for i in words:\n",
        "\n",
        "    if i == check_word:\n",
        "      count_occ += 1\n",
        "\n",
        "  print(f\"The word '{check_word}' occurs {count_occ} times in the file.\")\n",
        "\n",
        "\n",
        "\n",
        "\n"
      ],
      "metadata": {
        "colab": {
          "base_uri": "https://localhost:8080/"
        },
        "id": "FeDn6pxh7sm4",
        "outputId": "d7ce0023-6e08-4955-8eae-488ae668f52f"
      },
      "id": "FeDn6pxh7sm4",
      "execution_count": 21,
      "outputs": [
        {
          "output_type": "stream",
          "name": "stdout",
          "text": [
            "Enter the word you want to check for the number of occurences: from\n",
            "The word 'FROM' occurs 2 times in the file.\n"
          ]
        }
      ]
    },
    {
      "cell_type": "code",
      "source": [
        "#Q22.How can you check if a file is empty before attempting to read its contents?\n",
        "\n",
        "import os\n",
        "\n",
        "file_name = input(\"Enter the file name with extention: \")\n",
        "\n",
        "if os.path.getsize(file_name) == 0:\n",
        "\n",
        "  print(f\"The file {file_name} is empty\")\n",
        "\n",
        "else:\n",
        "\n",
        "  with open(file_name, \"r\") as f:\n",
        "    content = f.read()\n",
        "    print(content)"
      ],
      "metadata": {
        "colab": {
          "base_uri": "https://localhost:8080/"
        },
        "id": "9mhpxP887teN",
        "outputId": "3ef9e9dd-3f5e-49ef-9bd6-33bf7f2d3bb7"
      },
      "id": "9mhpxP887teN",
      "execution_count": 22,
      "outputs": [
        {
          "output_type": "stream",
          "name": "stdout",
          "text": [
            "Enter the file name with extention: book.txt\n",
            "The file book.txt is empty\n"
          ]
        }
      ]
    },
    {
      "cell_type": "code",
      "source": [
        "#Q23. Write a Python program that writes to a log file when an error occurs during file handling?\n",
        "\n",
        "import logging\n",
        "\n",
        "logging.basicConfig(\n",
        "    filename=\"error_log.txt\",\n",
        "    level=logging.INFO,\n",
        "    format=\"%(asctime)s - %(levelname)s - %(message)s\",\n",
        "    force=True\n",
        ")\n",
        "\n",
        "try:\n",
        "    a = int(input(\"Enter the first value: \"))\n",
        "    b = int(input(\"Enter the second value: \"))\n",
        "    c = a / b\n",
        "\n",
        "    logging.info(f\"Division successful: {a} / {b} = {c}\")\n",
        "    print(f\"Result: {c}\")\n",
        "\n",
        "except ZeroDivisionError:\n",
        "\n",
        "    logging.error(\"Attempted division by zero.\")\n",
        "    print(\"Error: Cannot divide by zero.\")\n",
        "\n",
        "except ValueError:\n",
        "\n",
        "    logging.error(\"Invalid input. Expected integers.\")\n",
        "    print(\"Error: Please enter valid integers.\")\n",
        "\n",
        "except Exception as e:\n",
        "    logging.error(f\"Unexpected error: {e}\")\n",
        "    print(f\"An unexpected error occurred: {e}\")\n"
      ],
      "metadata": {
        "colab": {
          "base_uri": "https://localhost:8080/"
        },
        "id": "a2RF0ikP7uDO",
        "outputId": "3ad3777b-12b4-4bf3-d115-101d5a1a4003"
      },
      "id": "a2RF0ikP7uDO",
      "execution_count": 23,
      "outputs": [
        {
          "output_type": "stream",
          "name": "stdout",
          "text": [
            "Enter the first value: 10\n",
            "Enter the second value: 20\n",
            "Result: 0.5\n"
          ]
        }
      ]
    }
  ],
  "metadata": {
    "colab": {
      "provenance": []
    },
    "language_info": {
      "name": "python"
    },
    "kernelspec": {
      "name": "python3",
      "display_name": "Python 3"
    }
  },
  "nbformat": 4,
  "nbformat_minor": 5
}