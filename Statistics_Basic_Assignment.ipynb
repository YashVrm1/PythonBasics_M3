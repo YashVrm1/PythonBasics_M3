{
 "cells": [
  {
   "cell_type": "markdown",
   "id": "e2421306",
   "metadata": {},
   "source": [
    "### Q1: Descriptive vs Inferential Statistics\n",
    "- **Descriptive Statistics**: Used to describe data we already have. Example: Average marks of students in a class.\n",
    "- **Inferential Statistics**: Used to make predictions from sample data. Example: Predicting election results using a survey."
   ]
  },
  {
   "cell_type": "markdown",
   "id": "21c9ad8b",
   "metadata": {},
   "source": [
    "### Q2: Sampling\n",
    "- **Sampling**: Taking a small part of a population to study instead of the whole population.\n",
    "- **Random Sampling**: Everyone has equal chance. Example: Picking names from a hat.\n",
    "- **Stratified Sampling**: Population divided into groups, then samples taken from each group. Example: Picking students from each grade."
   ]
  },
  {
   "cell_type": "markdown",
   "id": "3c6cb15d",
   "metadata": {},
   "source": [
    "### Q3: Mean, Median, Mode\n",
    "- **Mean**: Average = (sum of values / number of values)\n",
    "- **Median**: Middle value after sorting.\n",
    "- **Mode**: Value that occurs most often.\n",
    "👉 They are important because they tell us the 'center' of data."
   ]
  },
  {
   "cell_type": "markdown",
   "id": "0374277b",
   "metadata": {},
   "source": [
    "### Q4: Skewness and Kurtosis\n",
    "- **Skewness**: Shows if data leans to left or right.\n",
    "  - Positive Skew → More values on left, long tail on right (example: income).\n",
    "- **Kurtosis**: Shows if data is very peaked or flat.\n",
    "  - High Kurtosis → Many extreme values."
   ]
  },
  {
   "cell_type": "markdown",
   "id": "796268f3",
   "metadata": {},
   "source": [
    "### Q5: Find Mean, Median, Mode"
   ]
  },
  {
   "cell_type": "code",
   "execution_count": null,
   "id": "16362cb9",
   "metadata": {},
   "outputs": [],
   "source": [
    "\n",
    "import statistics as st\n",
    "\n",
    "numbers = [12, 15, 12, 18, 19, 12, 20, 22, 19, 19, 24, 24, 24, 26, 28]\n",
    "\n",
    "print(\"Mean:\", st.mean(numbers))\n",
    "print(\"Median:\", st.median(numbers))\n",
    "print(\"Mode:\", st.mode(numbers))\n"
   ]
  },
  {
   "cell_type": "markdown",
   "id": "56d9a180",
   "metadata": {},
   "source": [
    "### Q6: Covariance and Correlation"
   ]
  },
  {
   "cell_type": "code",
   "execution_count": null,
   "id": "542b6ae2",
   "metadata": {},
   "outputs": [],
   "source": [
    "\n",
    "import numpy as np\n",
    "\n",
    "x = [10, 20, 30, 40, 50]\n",
    "y = [15, 25, 35, 45, 60]\n",
    "\n",
    "# Covariance\n",
    "cov = np.cov(x, y, bias=True)[0,1]\n",
    "\n",
    "# Correlation\n",
    "corr = np.corrcoef(x, y)[0,1]\n",
    "\n",
    "print(\"Covariance:\", cov)\n",
    "print(\"Correlation:\", corr)\n"
   ]
  },
  {
   "cell_type": "markdown",
   "id": "5a42a76a",
   "metadata": {},
   "source": [
    "### Q7: Boxplot and Outliers"
   ]
  },
  {
   "cell_type": "code",
   "execution_count": null,
   "id": "df41b266",
   "metadata": {},
   "outputs": [],
   "source": [
    "\n",
    "import matplotlib.pyplot as plt\n",
    "\n",
    "data = [12, 14, 14, 15, 18, 19, 19, 21, 22, 22, 23, 23, 24, 26, 29, 35]\n",
    "\n",
    "plt.boxplot(data)\n",
    "plt.title(\"Boxplot\")\n",
    "plt.show()\n",
    "\n",
    "# Outlier here is 35 (far away from others)\n"
   ]
  },
  {
   "cell_type": "markdown",
   "id": "dfe2871d",
   "metadata": {},
   "source": [
    "### Q8: Advertising Spend vs Sales"
   ]
  },
  {
   "cell_type": "code",
   "execution_count": null,
   "id": "15e6f7ab",
   "metadata": {},
   "outputs": [],
   "source": [
    "\n",
    "ads = [200, 250, 300, 400, 500]\n",
    "sales = [2200, 2450, 2750, 3200, 4000]\n",
    "\n",
    "corr = np.corrcoef(ads, sales)[0,1]\n",
    "print(\"Correlation:\", corr)\n",
    "\n",
    "# High correlation (close to 1) means ads and sales increase together\n"
   ]
  },
  {
   "cell_type": "markdown",
   "id": "2f37fb2f",
   "metadata": {},
   "source": [
    "### Q9: Customer Survey Data"
   ]
  },
  {
   "cell_type": "code",
   "execution_count": null,
   "id": "7a53ff87",
   "metadata": {},
   "outputs": [],
   "source": [
    "\n",
    "scores = [7, 8, 5, 9, 6, 7, 8, 9, 10, 4, 7, 6, 9, 8, 7]\n",
    "\n",
    "print(\"Mean:\", st.mean(scores))\n",
    "print(\"Standard Deviation:\", st.pstdev(scores))\n",
    "\n",
    "plt.hist(scores, bins=6, edgecolor='black')\n",
    "plt.title(\"Survey Scores\")\n",
    "plt.xlabel(\"Score\")\n",
    "plt.ylabel(\"Count\")\n",
    "plt.show()\n"
   ]
  }
 ],
 "metadata": {},
 "nbformat": 4,
 "nbformat_minor": 5
}
