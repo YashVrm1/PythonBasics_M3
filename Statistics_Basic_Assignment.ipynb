{
  "cells": [
    {
      "cell_type": "markdown",
      "source": [
        "# YASH VERMA (VISHU VERMA) STATISTICS_BASICS_ASSIGNMENT"
      ],
      "metadata": {
        "id": "gK--wIPEe7e2"
      },
      "id": "gK--wIPEe7e2"
    },
    {
      "cell_type": "markdown",
      "id": "e2421306",
      "metadata": {
        "id": "e2421306"
      },
      "source": [
        "### Q1: Descriptive vs Inferential Statistics\n",
        "- **Descriptive Statistics**: Used to describe data we already have. Example: Average marks of students in a class.\n",
        "- **Inferential Statistics**: Used to make predictions from sample data. Example: Predicting election results using a survey."
      ]
    },
    {
      "cell_type": "markdown",
      "id": "21c9ad8b",
      "metadata": {
        "id": "21c9ad8b"
      },
      "source": [
        "### Q2: Sampling\n",
        "- **Sampling**: Taking a small part of a population to study instead of the whole population.\n",
        "- **Random Sampling**: Everyone has equal chance. Example: Picking names from a hat.\n",
        "- **Stratified Sampling**: Population divided into groups, then samples taken from each group. Example: Picking students from each grade."
      ]
    },
    {
      "cell_type": "markdown",
      "id": "3c6cb15d",
      "metadata": {
        "id": "3c6cb15d"
      },
      "source": [
        "### Q3: Mean, Median, Mode\n",
        "- **Mean**: Average = (sum of values / number of values)\n",
        "- **Median**: Middle value after sorting.\n",
        "- **Mode**: Value that occurs most often.\n",
        "\n",
        "They are important because they tell us the 'center' of data."
      ]
    },
    {
      "cell_type": "markdown",
      "id": "0374277b",
      "metadata": {
        "id": "0374277b"
      },
      "source": [
        "### Q4: Skewness and Kurtosis\n",
        "- **Skewness**: Shows if data leans to left or right.\n",
        "  - Positive Skew → More values on left, long tail on right (example: income).\n",
        "- **Kurtosis**: Shows if data is very peaked or flat.\n",
        "  - High Kurtosis → Many extreme values."
      ]
    },
    {
      "cell_type": "markdown",
      "id": "796268f3",
      "metadata": {
        "id": "796268f3"
      },
      "source": [
        "### Q5: Find Mean, Median, Mode"
      ]
    },
    {
      "cell_type": "code",
      "execution_count": 1,
      "id": "16362cb9",
      "metadata": {
        "id": "16362cb9",
        "outputId": "52febecd-167b-4e17-b88d-f2b825dafb4a",
        "colab": {
          "base_uri": "https://localhost:8080/"
        }
      },
      "outputs": [
        {
          "output_type": "stream",
          "name": "stdout",
          "text": [
            "Mean: 19.6\n",
            "Median: 19\n",
            "Mode: 12\n"
          ]
        }
      ],
      "source": [
        "\n",
        "import statistics as st\n",
        "\n",
        "numbers = [12, 15, 12, 18, 19, 12, 20, 22, 19, 19, 24, 24, 24, 26, 28]\n",
        "\n",
        "print(\"Mean:\", st.mean(numbers))\n",
        "print(\"Median:\", st.median(numbers))\n",
        "print(\"Mode:\", st.mode(numbers))\n"
      ]
    },
    {
      "cell_type": "markdown",
      "id": "56d9a180",
      "metadata": {
        "id": "56d9a180"
      },
      "source": [
        "### Q6: Covariance and Correlation"
      ]
    },
    {
      "cell_type": "code",
      "execution_count": 2,
      "id": "542b6ae2",
      "metadata": {
        "id": "542b6ae2",
        "outputId": "9d5eabad-c216-411f-9ee9-b81dfdb52c73",
        "colab": {
          "base_uri": "https://localhost:8080/"
        }
      },
      "outputs": [
        {
          "output_type": "stream",
          "name": "stdout",
          "text": [
            "Covariance: 220.0\n",
            "Correlation: 0.995893206467704\n"
          ]
        }
      ],
      "source": [
        "\n",
        "import numpy as np\n",
        "\n",
        "x = [10, 20, 30, 40, 50]\n",
        "y = [15, 25, 35, 45, 60]\n",
        "\n",
        "# Covariance\n",
        "cov = np.cov(x, y, bias=True)[0,1]\n",
        "\n",
        "# Correlation\n",
        "corr = np.corrcoef(x, y)[0,1]\n",
        "\n",
        "print(\"Covariance:\", cov)\n",
        "print(\"Correlation:\", corr)\n"
      ]
    },
    {
      "cell_type": "markdown",
      "id": "5a42a76a",
      "metadata": {
        "id": "5a42a76a"
      },
      "source": [
        "### Q7: Boxplot and Outliers"
      ]
    },
    {
      "cell_type": "code",
      "execution_count": 3,
      "id": "df41b266",
      "metadata": {
        "id": "df41b266",
        "outputId": "8789e0df-57e0-4901-ae33-137564a91311",
        "colab": {
          "base_uri": "https://localhost:8080/",
          "height": 452
        }
      },
      "outputs": [
        {
          "output_type": "display_data",
          "data": {
            "text/plain": [
              "<Figure size 640x480 with 1 Axes>"
            ],
            "image/png": "[encoded data removed]"
          },
          "metadata": {}
        }
      ],
      "source": [
        "\n",
        "import matplotlib.pyplot as plt\n",
        "\n",
        "data = [12, 14, 14, 15, 18, 19, 19, 21, 22, 22, 23, 23, 24, 26, 29, 35]\n",
        "\n",
        "plt.boxplot(data)\n",
        "plt.title(\"Boxplot\")\n",
        "plt.show()\n",
        "\n",
        "# Outlier here is 35 (far away from others)\n"
      ]
    },
    {
      "cell_type": "markdown",
      "id": "dfe2871d",
      "metadata": {
        "id": "dfe2871d"
      },
      "source": [
        "### Q8: Advertising Spend vs Sales"
      ]
    },
    {
      "cell_type": "code",
      "execution_count": 4,
      "id": "15e6f7ab",
      "metadata": {
        "id": "15e6f7ab",
        "outputId": "57bc56aa-5a0d-4a07-f0a7-eb110c6e8530",
        "colab": {
          "base_uri": "https://localhost:8080/"
        }
      },
      "outputs": [
        {
          "output_type": "stream",
          "name": "stdout",
          "text": [
            "Correlation: 0.9935824101653329\n"
          ]
        }
      ],
      "source": [
        "\n",
        "ads = [200, 250, 300, 400, 500]\n",
        "sales = [2200, 2450, 2750, 3200, 4000]\n",
        "\n",
        "corr = np.corrcoef(ads, sales)[0,1]\n",
        "print(\"Correlation:\", corr)\n",
        "\n",
        "# High correlation (close to 1) means ads and sales increase together\n"
      ]
    },
    {
      "cell_type": "markdown",
      "id": "2f37fb2f",
      "metadata": {
        "id": "2f37fb2f"
      },
      "source": [
        "### Q9: Customer Survey Data"
      ]
    },
    {
      "cell_type": "code",
      "execution_count": 5,
      "id": "7a53ff87",
      "metadata": {
        "id": "7a53ff87",
        "outputId": "67acb62e-16c9-48b3-a74f-36924aa969af",
        "colab": {
          "base_uri": "https://localhost:8080/",
          "height": 507
        }
      },
      "outputs": [
        {
          "output_type": "stream",
          "name": "stdout",
          "text": [
            "Mean: 7.333333333333333\n",
            "Standard Deviation: 1.5776212754932308\n"
          ]
        },
        {
          "output_type": "display_data",
          "data": {
            "text/plain": [
              "<Figure size 640x480 with 1 Axes>"
            ],
            "image/png": "[encoded data removed]"
          },
          "metadata": {}
        }
      ],
      "source": [
        "\n",
        "scores = [7, 8, 5, 9, 6, 7, 8, 9, 10, 4, 7, 6, 9, 8, 7]\n",
        "\n",
        "print(\"Mean:\", st.mean(scores))\n",
        "print(\"Standard Deviation:\", st.pstdev(scores))\n",
        "\n",
        "plt.hist(scores, bins=6, edgecolor='black')\n",
        "plt.title(\"Survey Scores\")\n",
        "plt.xlabel(\"Score\")\n",
        "plt.ylabel(\"Count\")\n",
        "plt.show()\n"
      ]
    }
  ],
  "metadata": {
    "colab": {
      "provenance": []
    },
    "language_info": {
      "name": "python"
    },
    "kernelspec": {
      "name": "python3",
      "display_name": "Python 3"
    }
  },
  "nbformat": 4,
  "nbformat_minor": 5
}