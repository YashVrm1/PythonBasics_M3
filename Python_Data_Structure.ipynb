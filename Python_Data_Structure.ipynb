{
  "nbformat": 4,
  "nbformat_minor": 0,
  "metadata": {
    "colab": {
      "provenance": []
    },
    "kernelspec": {
      "name": "python3",
      "display_name": "Python 3"
    },
    "language_info": {
      "name": "python"
    }
  },
  "cells": [
    {
      "cell_type": "markdown",
      "source": [
        "#YASH VERMA - MODULE 4 ASSIGNMENT- PYTHON DATA STRUCTURE"
      ],
      "metadata": {
        "id": "dQBXQWRGogmS"
      }
    },
    {
      "cell_type": "markdown",
      "source": [
        "#Q1. What are data structures, and why are they important?\n",
        "\n",
        "* Data Structure is a way of organizing and storing data so that it can be used effectively.\n",
        "\n",
        "Some popular Data Structures: -\n",
        "\n",
        "* Dictionary\n",
        "* Stack\n",
        "* Queue\n",
        "\n",
        "Why are the Important: -\n",
        "\n",
        "* They help our code run faster and use less memory.\n",
        "* They make our code more organized and easier to manage.\n",
        "* They allow us handle larger and complex data sets.\n",
        "* They help us solving complex problem in a smart way."
      ],
      "metadata": {
        "id": "JR2tXwtRorx-"
      }
    },
    {
      "cell_type": "markdown",
      "source": [
        "# Q2. Explain the difference between mutable and immutable data types with examples?\n",
        "\n",
        "Data types are classification of data that detemines what kind of value a variable can hold and what operation can be performed on it.\n",
        "\n",
        "There are two types of DataTypes: -\n",
        "\n",
        "* Mutable.\n",
        "\n",
        "  - Mutable data types are those whose values can be changed, updated or removed after creation.\n",
        "  - Example --> List, Set.\n",
        "\n",
        "  -\n",
        "        l = [1,2,3]\n",
        "        l.append(4)\n",
        "        print(l) -- > #Output [1,2,3,4] (Mutable)\n",
        "\n",
        "* Immutable.\n",
        "\n",
        "  - Immutable data types are those whose values cannot be changed, updated or removed after creation.\n",
        "  - Example --> Tuples, String.\n",
        "  -\n",
        "        string1 = \"pwskills\"\n",
        "        string1[0] = \"Data Science\" --> #Error\n",
        "  -\n",
        "        t = (1,2,3,4)\n",
        "        t[1] = 5\n",
        "        print(t) --> Error\n",
        "\n",
        "\n",
        "\n"
      ],
      "metadata": {
        "id": "kWVusPpcrJG1"
      }
    },
    {
      "cell_type": "markdown",
      "source": [
        "# Q3. What are the main differences between lists and tuples in Python?\n",
        "\n",
        "* The main difference between lists and tuples is: -\n",
        " - List are \"mutable\" and Tuples are \"immutable\".\n",
        " - List uses square brackets \"[ ]\" Tuples uses parentheses \"()\" brackets.\n",
        " -  Use lists when you want to store data that can change, like user input or values that update.\n",
        "  - Tuples are ideal when you want to store fixed data, such as coordinates or configuration settings.\n",
        "\n"
      ],
      "metadata": {
        "id": "Uji4h_lRtrid"
      }
    },
    {
      "cell_type": "markdown",
      "source": [
        "# Q4. Describe how dictionaries store data?\n",
        "\n",
        "* Dictionaries stores the data in memory in \"Key-Value\" format.\n",
        "* Keys are usually intergers or strings.\n",
        "* Keys must be unique.\n",
        "* Values can be of any data type.\n",
        "* Each Key is linked to a specific Value.\n",
        "\n",
        "-\n",
        "      phonebook = {\"Friend1\": 12345, \"Friend2\": 45678, \"Friend3\": 98765}"
      ],
      "metadata": {
        "id": "KooA17bduh21"
      }
    },
    {
      "cell_type": "markdown",
      "source": [
        "# Q5. Why might you use a set instead of a list in Python?\n",
        "\n",
        "* When you want unique values only (No Duplicate Values).\n",
        "* When you want Faster response.\n",
        "\n",
        "  -\n",
        "        s = [1,1,2,2,3,3,4,4,5,5]\n",
        "        s1 = set(s)\n",
        "        print(s1) --> #Output {1,2,3,4,5}\n",
        "* You can perform Mathematical Operations using set.\n",
        "\n",
        "  -\n",
        "        s2 = [1,2,3]\n",
        "        s3 = [3,4,5]\n",
        "        print(s2 & s3) --> #Output --> {3}\n",
        "\n",
        "\n",
        "\n"
      ],
      "metadata": {
        "id": "AsBOkmzkvvwl"
      }
    },
    {
      "cell_type": "markdown",
      "source": [
        "# Q6. What is a string in Python, and how is it different from a list?\n",
        "\n",
        "* String is sequence of characters enclosed in quotes ' ' or double quotes \" \".\n",
        "\n",
        "* String: -\n",
        "  - It is homogenous i.e. it can hold only text values(characters).\n",
        "\n",
        "  - Even if you put numbers or symbols inside quotes, Python treats them as text.\n",
        "\n",
        "  - Strings are immutable.\n",
        "\n",
        "  -\n",
        "        Text = \"123abc@!\"  # Still a string\n",
        "\n",
        "\n",
        "* List: -\n",
        " - List is heterogenous i.e. it can hold multiple values of different data types.\n",
        "\n",
        " - It can hold multiple strings as well.\n",
        "\n",
        " - List are mutable.\n",
        "\n",
        " -\n",
        "        my_list = [1, \"Hello\", 3.14, True]\n"
      ],
      "metadata": {
        "id": "H12yZTVYwntL"
      }
    },
    {
      "cell_type": "markdown",
      "source": [
        "#Q7. How do tuples ensure data integrity in Python?\n",
        "\n",
        "* Tuples are immutable, meaning their values cannot be changed after creation.\n",
        "\n",
        "* Tuples are useful when you want to store permanent, fixed data that should not be accidentally modified.\n",
        "\n",
        "* This helps in preventing data loss or unwanted changes, especially in sensitive or critical data.\n",
        "\n",
        "* Because tuples cannot be changed, they are also faster to access and more memory-efficient than lists.\n",
        "\n"
      ],
      "metadata": {
        "id": "LbBiDNmAwr0_"
      }
    },
    {
      "cell_type": "markdown",
      "source": [
        "# Q8.What is a hash table, and how does it relate to dictionaries in Python?\n",
        "\n",
        "* A hash table is a data structure that stores key-value pairs.\n",
        "\n",
        "It uses a hash function to turn each key into a number (called a hash) to store and find data quickly.\n",
        "\n",
        "How it relates to dictionaries:\n",
        "\n",
        "* In Python, a dictionary is built using a hash table.\n",
        "\n",
        "* When you give a key (like \"name\"), Python:\n",
        "\n",
        "* Turns the key into a number using a hash function.\n",
        "\n",
        "* Uses that number to find the value quickly in memory.\n",
        "\n",
        "This makes find, add, update, and delete operations very fast.\n",
        "\n"
      ],
      "metadata": {
        "id": "xxALE34q0nMU"
      }
    },
    {
      "cell_type": "markdown",
      "source": [
        "# Q9. Can lists contain different data types in Python?\n",
        "\n",
        "* The Answer is Yes as Lists are hetrogenous which means it can store multiple values of different data types.\n",
        "\n",
        " -\n",
        "        l = [1,2.3,True,3+4j,\"A\",\"b\"]\n"
      ],
      "metadata": {
        "id": "MpLff-OI6527"
      }
    },
    {
      "cell_type": "markdown",
      "source": [
        "# Q10. Explain why strings are immutable in Python?\n",
        "\n",
        "* Strings are immutable because they are designed that way in Python.Once string is created you can't change it's value. If you try to change part of string python will create a new string.\n",
        "\n",
        " -\n",
        "        name = \"Yash\"\n",
        "        name1 = \"H\" + name[1:]\n",
        "        print(name1) --> # (Hash)\n",
        "        \n",
        "* Safety:\n",
        "\n",
        " - String can't be changed so they can be shared safely between different parts of program.\n",
        "\n",
        "* Faster Performance:\n",
        "\n",
        "  - Being immutable makes them faster to access and more memory efficient.\n",
        "\n",
        "* Hashable:\n",
        "\n",
        " - Since strings are immutable they can be used as keys in dictionaries, which need unique and unchanging keys.\n"
      ],
      "metadata": {
        "id": "cY-usv_f7jBF"
      }
    },
    {
      "cell_type": "markdown",
      "source": [
        "# Q11.What advantages do dictionaries offer over lists for certain tasks?\n",
        "\n",
        "* Faster search: Dictionaries use hashing, which means looking up a value by key is faster. Lists use linear search meaning, if you don't know the index and you are searching for a value, Python has to check each item one by one.\n",
        "\n",
        "* Dictionary keys are unique and unchangeable which helps in quick and reliable data access.\n",
        "\n",
        "* Dictionaries offer semantic clarity—you know what each value represents example phonebook.\n",
        "\n",
        "* With Dictionary you can update values without changing the keys. Perfect for tracking changing states (like inventory).\n"
      ],
      "metadata": {
        "id": "d-HZ2g0U95EO"
      }
    },
    {
      "cell_type": "markdown",
      "source": [
        "#Q12. Describe a scenario where using a tuple would be preferable over a list?\n",
        "\n",
        "* Safety: Tuples can't be changed so they can be shared safely between different parts of program.\n",
        "\n",
        "* Faster Performance: Being immutable makes them faster to access and more memory efficient.\n",
        "\n",
        "* Representing fixed data: Tuples are useful when you want to store a fixed set of values that should not change, like: Coordinates → (x, y)\n",
        "\n",
        "* Hashable: Since tuples are immutable they can be used as keys in dictionaries, which need unique and unchanging keys."
      ],
      "metadata": {
        "id": "IebZTMxXEubn"
      }
    },
    {
      "cell_type": "markdown",
      "source": [
        "#Q13. How do sets handle duplicate values in Python?\n",
        "\n",
        "* Sets do not allow duplicate values in Python.\n",
        "\n",
        "* If you try to add duplicates, the set will automatically remove them and keep only unique values.\n",
        "\n",
        "  -  \n",
        "          s = {1,2,3,4,1,2,3,4,1,2,3,4}\n",
        "          print(s) --> #Output {1,2,3,4}\n",
        "     \n"
      ],
      "metadata": {
        "id": "JOd2YxK3Gbgg"
      }
    },
    {
      "cell_type": "markdown",
      "source": [
        "# Q14.How does the “in” keyword work differently for lists and dictionaries?\n",
        "\n",
        "* For list \"in\" keyword checks whether a value is present in the list or not.\n",
        "\n",
        "  -\n",
        "        l = [1,2,3,4]\n",
        "        print(3 in l) --> #True.\n",
        "        print(5 in l) --> False.\n",
        "\n",
        "* For Dictionary \"in\" keyword checks whether a key is present in the dictionary or not.\n",
        "\n",
        "  -\n",
        "        d = {\"name\": \"Yash\", \"age\": 29, \"gender\": \"Male\"}\n",
        "        print(\"name\" in d) --> True\n",
        "        print(29 in d) --> False, as \"in\" keyword only checks for keys not values.\n"
      ],
      "metadata": {
        "id": "3NeD1WPTG9ZD"
      }
    },
    {
      "cell_type": "markdown",
      "source": [
        "# Q15. Can you modify the elements of a tuple? Explain why or why not.\n",
        "\n",
        "* No, you cannot modify the elements of a tuple.\n",
        "* This is because tuples are immutable, meaning their values cannot be changed, added, or removed after creation.\n",
        "* You can access elements using indexing, but you cannot modify them."
      ],
      "metadata": {
        "id": "1Fz9SyKII2fu"
      }
    },
    {
      "cell_type": "markdown",
      "source": [
        "#Q16. What is a nested dictionary, and give an example of its use case?\n",
        "\n",
        "* A nested dictionary means a dictionary inside another dictionary. It is used to store related data in a structured way.\n",
        "\n",
        "  -\n",
        "        student = {\n",
        "        \"name\": \"Yash\",\n",
        "        \"marks\": {\n",
        "            \"math\": 85,\n",
        "            \"science\": 90\n",
        "          }\n",
        "        }\n",
        "        print(\"maths:\", student[\"marks\"][\"math\"]) --> maths: 85"
      ],
      "metadata": {
        "id": "zoEJ09RrJjpl"
      }
    },
    {
      "cell_type": "markdown",
      "source": [
        "#Q17. Describe the time complexity of accessing elements in a dictionary?\n",
        "\n",
        "* Accessing elements in dicitionary is very fast.\n",
        "* The time complexity of retrieving a value by its key in a dictionary is\n",
        "  O(1).\n",
        "* This is because dictionaries use a hash table internally which allows constant time lookup meaning no matter how big the dictionary is, access time stays almost the same.\n",
        "\n",
        "  -\n",
        "        d = {\"name\": \"Yash\", \"age\": 29}\n",
        "        print(d[\"age\"])\n",
        "\n",
        "Python uses a hash function to jump straight to the value of \"age\".\n",
        "\n"
      ],
      "metadata": {
        "id": "wOCMNG2-LhXe"
      }
    },
    {
      "cell_type": "markdown",
      "source": [
        "#Q18. In what situations are lists preferred over dictionaries?\n",
        "\n",
        "Use a list when:\n",
        "\n",
        "* You need to store items in order (like a sequence).\n",
        "\n",
        "* You want to access items using index numbers (like 0, 1, 2).\n",
        "\n",
        "* You don't need keys just a simple collection of values.\n",
        "\n",
        " -\n",
        "        fruits = [\"apple\", \"banana\", \"mango\"]\n",
        "        print(fruits[0])"
      ],
      "metadata": {
        "id": "DwK1qyFuMdYO"
      }
    },
    {
      "cell_type": "markdown",
      "source": [
        "#Q19. Why are dictionaries considered unordered (in older versions), and how does that affect data retrieval?\n",
        "\n",
        "In older versions of Python (before 3.7), dictionaries were unordered. This means they didnt remember the order in which you added the key-value pairs. For example, if you write {'a': 1, 'b': 2, 'c': 3}, it might print as {'b': 2, 'a': 1, 'c': 3}. So the order could change when you print or loop through the dictionary.\n",
        "\n",
        "But this did not affect how you get values. If you do dict['a'], it will still give you 1. Only the looping order was unpredictable.\n",
        "\n",
        "From Python 3.7 onwards, dictionaries are ordered. That means they now remember the insertion order. So when you loop through them, you get the items in the same order you added them. But even now, key access like my_dict['a'] works the same as before."
      ],
      "metadata": {
        "id": "pg4NuyQENCJ9"
      }
    },
    {
      "cell_type": "markdown",
      "source": [
        "#Q20. Difference between a list and a dictionary in terms of data retrieval?\n",
        "\n",
        "List: -\n",
        "\n",
        "* Use a list when you care about the order or position.\n",
        "* You don't need keys just a simple collection of values.\n",
        "* Lists are accessed by Indexing (0,1,2).\n",
        "* Slow to search data.\n",
        "* my_list[0]\n",
        "\n",
        "Dictionary: -\n",
        "\n",
        "* Use a dictionary when you need to label your data with keys.\n",
        "* With Dictionary you can update values without changing the keys. Perfect for tracking changing states (like inventory).\n",
        "* Dictionaries are accessed by keys (\"names\").\n",
        "* my_dict[\"name\"]\n",
        "\n"
      ],
      "metadata": {
        "id": "oHaQOfnxNRfI"
      }
    },
    {
      "cell_type": "markdown",
      "source": [
        "#Practical Questions\n"
      ],
      "metadata": {
        "id": "4B-NfpXlIazu"
      }
    },
    {
      "cell_type": "code",
      "source": [
        "#Q1. DP Write a code to create a string with your name and print it?\n",
        "\n",
        "name = \"Yash\"\n",
        "print(name)"
      ],
      "metadata": {
        "id": "8phiJyP4KsQM",
        "colab": {
          "base_uri": "https://localhost:8080/"
        },
        "outputId": "0670c256-4572-44d3-f8a1-b0e67b36d4b4"
      },
      "execution_count": 2,
      "outputs": [
        {
          "output_type": "stream",
          "name": "stdout",
          "text": [
            "Yash\n"
          ]
        }
      ]
    },
    {
      "cell_type": "code",
      "source": [
        "#Q2.Write a code to find the length of the string \"Hello World\"?\n",
        "\n",
        "string = \"Hello World\"\n",
        "print(len(string))\n"
      ],
      "metadata": {
        "colab": {
          "base_uri": "https://localhost:8080/"
        },
        "id": "gMG94kwOIiNh",
        "outputId": "e303b4c8-e1e8-48c9-c2b1-3d1b0b48eccd"
      },
      "execution_count": 3,
      "outputs": [
        {
          "output_type": "stream",
          "name": "stdout",
          "text": [
            "11\n"
          ]
        }
      ]
    },
    {
      "cell_type": "code",
      "source": [
        "#Q3. Write a code to slice the first 3 characters from the string \"Python Programming\"?\n",
        "\n",
        "s = \"Python Programming\"\n",
        "print(s[:3])\n",
        "\n"
      ],
      "metadata": {
        "colab": {
          "base_uri": "https://localhost:8080/"
        },
        "id": "ZE-pTbuMI-91",
        "outputId": "94fcb115-dbbf-439e-a289-008fcfc1a479"
      },
      "execution_count": 5,
      "outputs": [
        {
          "output_type": "stream",
          "name": "stdout",
          "text": [
            "Pyt\n"
          ]
        }
      ]
    },
    {
      "cell_type": "code",
      "source": [
        "#Q4.Write a code to convert the string \"hello\" to uppercase?\n",
        "\n",
        "s = \"hello\"\n",
        "print(s.upper())"
      ],
      "metadata": {
        "colab": {
          "base_uri": "https://localhost:8080/"
        },
        "id": "KC39RuWQJVsI",
        "outputId": "b7be3c90-86bb-4567-d463-19a0fb847562"
      },
      "execution_count": 6,
      "outputs": [
        {
          "output_type": "stream",
          "name": "stdout",
          "text": [
            "HELLO\n"
          ]
        }
      ]
    },
    {
      "cell_type": "code",
      "source": [
        "#Q5.Write a code to replace the word \"apple\" with \"orange\" in the string \"I like apple\"?\n",
        "\n",
        "s =\"I like apple\"\n",
        "s1 = s[0:7] + \"orange\"\n",
        "print(s1)\n"
      ],
      "metadata": {
        "colab": {
          "base_uri": "https://localhost:8080/"
        },
        "id": "If5nC00OJe7-",
        "outputId": "ed61024a-c42d-47af-9940-bce1e36577c3"
      },
      "execution_count": 7,
      "outputs": [
        {
          "output_type": "stream",
          "name": "stdout",
          "text": [
            "I like orange\n"
          ]
        }
      ]
    },
    {
      "cell_type": "code",
      "source": [
        "#Q5.Write a code to replace the word \"apple\" with \"orange\" in the string \"I like apple\"?\n",
        "\n",
        "s =\"I like apple\"\n",
        "s1 = s.replace(\"apple\", \"orange\")\n",
        "print(s1)\n"
      ],
      "metadata": {
        "colab": {
          "base_uri": "https://localhost:8080/"
        },
        "id": "3eoRmCHeKI7H",
        "outputId": "9f9571ab-7bf0-4501-aedb-f09acca4a46e"
      },
      "execution_count": 13,
      "outputs": [
        {
          "output_type": "stream",
          "name": "stdout",
          "text": [
            "I like orange\n"
          ]
        }
      ]
    },
    {
      "cell_type": "code",
      "source": [
        "#Q6.Write a code to create a list with numbers 1 to 5 and print it??\n",
        "\n",
        "l = [1,2,3,4,5]\n",
        "print(l)\n"
      ],
      "metadata": {
        "colab": {
          "base_uri": "https://localhost:8080/"
        },
        "id": "OKA7pz7FKc2P",
        "outputId": "6efd0f7d-752f-435b-b91a-9fb16ec0d767"
      },
      "execution_count": 14,
      "outputs": [
        {
          "output_type": "stream",
          "name": "stdout",
          "text": [
            "[1, 2, 3, 4, 5]\n"
          ]
        }
      ]
    },
    {
      "cell_type": "code",
      "source": [
        "#Q7. Write a code to append the number 10 to the list [1, 2, 3, 4]?\n",
        "\n",
        "l1 = [1,2,3,4]\n",
        "l1.append(10)\n",
        "print(l1)\n"
      ],
      "metadata": {
        "colab": {
          "base_uri": "https://localhost:8080/"
        },
        "id": "a9Y_d3KCKP9e",
        "outputId": "5fc5468f-55b4-4b37-93d3-fe168cd324f7"
      },
      "execution_count": 15,
      "outputs": [
        {
          "output_type": "stream",
          "name": "stdout",
          "text": [
            "[1, 2, 3, 4, 10]\n"
          ]
        }
      ]
    },
    {
      "cell_type": "code",
      "source": [
        "#Q8. Write a code to remove the number 3 from the list [1, 2, 3, 4, 5]?\n",
        "\n",
        "l2 = [1,2,3,4,5]\n",
        "l2.remove(3)\n",
        "print(l2)\n"
      ],
      "metadata": {
        "colab": {
          "base_uri": "https://localhost:8080/"
        },
        "id": "_qbimdf3LgAR",
        "outputId": "d3b0ef6c-67c4-414f-8786-b4d6e00fe7b8"
      },
      "execution_count": 16,
      "outputs": [
        {
          "output_type": "stream",
          "name": "stdout",
          "text": [
            "[1, 2, 4, 5]\n"
          ]
        }
      ]
    },
    {
      "cell_type": "code",
      "source": [
        "#Q9.Write a code to access the second element in the list ['a', 'b', 'c', 'd']?\n",
        "\n",
        "l3 = [\"a\",\"b\",\"c\",\"d\"]\n",
        "print(l3[1])\n",
        "\n"
      ],
      "metadata": {
        "colab": {
          "base_uri": "https://localhost:8080/"
        },
        "id": "RuZrmzEULr8r",
        "outputId": "2f26de22-7454-4c98-8319-ba52e6184ba7"
      },
      "execution_count": 17,
      "outputs": [
        {
          "output_type": "stream",
          "name": "stdout",
          "text": [
            "b\n"
          ]
        }
      ]
    },
    {
      "cell_type": "code",
      "source": [
        "#Q10. Write a code to reverse the list [10, 20, 30, 40, 50]?\n",
        "\n",
        "l4 = [10,20,30,40,50]\n",
        "print(l4[::-1])"
      ],
      "metadata": {
        "colab": {
          "base_uri": "https://localhost:8080/"
        },
        "id": "yMTOM1Z1L26H",
        "outputId": "8c797014-71c5-494e-9fe3-62fd6145b228"
      },
      "execution_count": 18,
      "outputs": [
        {
          "output_type": "stream",
          "name": "stdout",
          "text": [
            "[50, 40, 30, 20, 10]\n"
          ]
        }
      ]
    },
    {
      "cell_type": "code",
      "source": [
        "#Q11 Write a code to create a tuple with the elements 100, 200, 300 and print it?\n",
        "\n",
        "t = (100,200,300)\n",
        "print(t)"
      ],
      "metadata": {
        "colab": {
          "base_uri": "https://localhost:8080/"
        },
        "id": "rHk8jLCXMHX0",
        "outputId": "9015b5f0-92a9-4dad-826a-3a5cbd9237db"
      },
      "execution_count": 19,
      "outputs": [
        {
          "output_type": "stream",
          "name": "stdout",
          "text": [
            "(100, 200, 300)\n"
          ]
        }
      ]
    },
    {
      "cell_type": "code",
      "source": [
        "#Q12 Write a code to access the second-to-last element of the tuple ('red', 'green', 'blue', 'yellow')?\n",
        "\n",
        "t1 = ('red', 'green', 'blue', 'yellow')\n",
        "print(t1[-2])"
      ],
      "metadata": {
        "colab": {
          "base_uri": "https://localhost:8080/"
        },
        "id": "T-CYzKouMONa",
        "outputId": "bd6650e4-48ae-4754-eb23-a42c580a3130"
      },
      "execution_count": 24,
      "outputs": [
        {
          "output_type": "stream",
          "name": "stdout",
          "text": [
            "blue\n"
          ]
        }
      ]
    },
    {
      "cell_type": "code",
      "source": [
        "#Q13 Write a code to find the minimum number in the tuple (10, 20, 5, 15)?\n",
        "\n",
        "t2 = (10,20,5,15)\n",
        "print(min(t2))"
      ],
      "metadata": {
        "colab": {
          "base_uri": "https://localhost:8080/"
        },
        "id": "3I6mZgR2McqC",
        "outputId": "61ee45f2-4a44-4bf2-dec0-cec7a1e8a5ee"
      },
      "execution_count": 22,
      "outputs": [
        {
          "output_type": "stream",
          "name": "stdout",
          "text": [
            "5\n"
          ]
        }
      ]
    },
    {
      "cell_type": "code",
      "source": [
        "#14. Write a code to find the index of the element \"cat\" in the tuple ('dog', 'cat', 'rabbit')?\n",
        "\n",
        "t3 = ('dog', 'cat', 'rabbit')\n",
        "print(t3.index(\"cat\"))\n",
        "\n"
      ],
      "metadata": {
        "colab": {
          "base_uri": "https://localhost:8080/"
        },
        "id": "1Z3ajDqeMrq9",
        "outputId": "f06a6a4d-aae4-4530-8330-5cba028aa3af"
      },
      "execution_count": 23,
      "outputs": [
        {
          "output_type": "stream",
          "name": "stdout",
          "text": [
            "1\n"
          ]
        }
      ]
    },
    {
      "cell_type": "code",
      "source": [
        "#Q15 Write a code to create a tuple containing three different fruits and check if \"kiwi\" is in it?\n",
        "\n",
        "t4 = (\"Mango\", \"Apple\", \"Kiwi\")\n",
        "a = \"Kiwi\" in t4\n",
        "print(a)"
      ],
      "metadata": {
        "colab": {
          "base_uri": "https://localhost:8080/"
        },
        "id": "sOaumCdVM45o",
        "outputId": "c48ebc6d-3904-4f66-8c83-c63d0d8cf10a"
      },
      "execution_count": 27,
      "outputs": [
        {
          "output_type": "stream",
          "name": "stdout",
          "text": [
            "True\n"
          ]
        }
      ]
    },
    {
      "cell_type": "code",
      "source": [
        "#Q16 Write a code to create a set with the elements 'a', 'b', 'c' and print it?\n",
        "\n",
        "s = {\"a\",\"b\",\"c\"}\n",
        "print(sorted(s))"
      ],
      "metadata": {
        "colab": {
          "base_uri": "https://localhost:8080/"
        },
        "id": "389_WyvZNlfN",
        "outputId": "561356e2-5613-4260-b5a1-80eaff409d24"
      },
      "execution_count": 33,
      "outputs": [
        {
          "output_type": "stream",
          "name": "stdout",
          "text": [
            "['a', 'b', 'c']\n"
          ]
        }
      ]
    },
    {
      "cell_type": "code",
      "source": [
        "#Q17 Write a code to clear all elements from the set {1, 2, 3, 4, 5}?\n",
        "\n",
        "s = {1,2,3,4,5}\n",
        "s.clear()\n",
        "print(s)"
      ],
      "metadata": {
        "colab": {
          "base_uri": "https://localhost:8080/"
        },
        "id": "FT1OWkVdN-tP",
        "outputId": "19211ef2-9fe0-4e4b-aad9-5326c1fc175b"
      },
      "execution_count": 37,
      "outputs": [
        {
          "output_type": "stream",
          "name": "stdout",
          "text": [
            "set()\n"
          ]
        }
      ]
    },
    {
      "cell_type": "code",
      "source": [
        "#Q18. Write a code to remove the element 4 from the set {1, 2, 3, 4}?\n",
        "\n",
        "s = {1,2,3,4}\n",
        "s.remove(4)\n",
        "print(s)"
      ],
      "metadata": {
        "colab": {
          "base_uri": "https://localhost:8080/"
        },
        "id": "VQyxVFCPOaKt",
        "outputId": "fc4a001a-856a-4dca-b19b-a28b260a1bbe"
      },
      "execution_count": 38,
      "outputs": [
        {
          "output_type": "stream",
          "name": "stdout",
          "text": [
            "{1, 2, 3}\n"
          ]
        }
      ]
    },
    {
      "cell_type": "code",
      "source": [
        "#Q19. Write a code to find the union of two sets {1, 2, 3} and {3, 4, 5}?\n",
        "\n",
        "s = {1,2,3}\n",
        "s1 ={3,4,5}\n",
        "print(s|s1)\n"
      ],
      "metadata": {
        "colab": {
          "base_uri": "https://localhost:8080/"
        },
        "id": "JYxEAVhFOuCD",
        "outputId": "6b56e098-bbc8-47d1-937a-f838634617a6"
      },
      "execution_count": 39,
      "outputs": [
        {
          "output_type": "stream",
          "name": "stdout",
          "text": [
            "{1, 2, 3, 4, 5}\n"
          ]
        }
      ]
    },
    {
      "cell_type": "code",
      "source": [
        "#Q20. Write a code to find the intersection of two sets {1, 2, 3} and {2, 3, 4}?\n",
        "\n",
        "s = {1,2,3}\n",
        "s1 = {2,3,4}\n",
        "print(s&s1)"
      ],
      "metadata": {
        "colab": {
          "base_uri": "https://localhost:8080/"
        },
        "id": "cikAObMyO6iB",
        "outputId": "5ca888e2-094c-4b32-d805-ddb82415bf2a"
      },
      "execution_count": 40,
      "outputs": [
        {
          "output_type": "stream",
          "name": "stdout",
          "text": [
            "{2, 3}\n"
          ]
        }
      ]
    },
    {
      "cell_type": "code",
      "source": [
        "#Q21. Write a code to create a dictionary with the keys \"name\", \"age\", and \"city\", and print it?\n",
        "\n",
        "d = {\"name\":\"Yash\",\"age\": 29, \"city\": \"Dhampur\"}\n",
        "print(d)"
      ],
      "metadata": {
        "colab": {
          "base_uri": "https://localhost:8080/"
        },
        "id": "I2CU3jwePKBZ",
        "outputId": "43a8887b-f9c7-48c6-9c93-8227b0e9bcb8"
      },
      "execution_count": 41,
      "outputs": [
        {
          "output_type": "stream",
          "name": "stdout",
          "text": [
            "{'name': 'Yash', 'age': 29, 'city': 'Dhampur'}\n"
          ]
        }
      ]
    },
    {
      "cell_type": "code",
      "source": [
        "#Q22. Write a code to add a new key-value pair \"country\": \"USA\" to the dictionary {'name': 'John', 'age': 25}?\n",
        "\n",
        "d1 = {\"name\": \"John\", \"age\": 25}\n",
        "d1[\"country\"] = \"USA\"\n",
        "print(d1)"
      ],
      "metadata": {
        "colab": {
          "base_uri": "https://localhost:8080/"
        },
        "id": "2Za41kDCPbzo",
        "outputId": "9f96cbfd-d706-4855-c872-0915b4c836dd"
      },
      "execution_count": 43,
      "outputs": [
        {
          "output_type": "stream",
          "name": "stdout",
          "text": [
            "{'name': 'John', 'age': 25, 'country': 'USA'}\n"
          ]
        }
      ]
    },
    {
      "cell_type": "code",
      "source": [
        "#Q23. Write a code to access the value associated with the key \"name\" in the dictionary {'name': 'Alice', 'age': 30}?\n",
        "\n",
        "d2 = {\"name\": \"Alice\", \"age\": 30}\n",
        "print(d2[\"name\"])\n"
      ],
      "metadata": {
        "colab": {
          "base_uri": "https://localhost:8080/"
        },
        "id": "6ayh5YFeQrqK",
        "outputId": "13f56b01-0d99-4ea6-e842-f98fffe11e73"
      },
      "execution_count": 47,
      "outputs": [
        {
          "output_type": "stream",
          "name": "stdout",
          "text": [
            "Alice\n"
          ]
        }
      ]
    },
    {
      "cell_type": "code",
      "source": [
        "#Q24. Write a code to remove the key \"age\" from the dictionary {'name': 'Bob', 'age': 22, 'city': 'New York'}?\n",
        "\n",
        "d3 = {'name': 'Bob', 'age': 22, 'city': 'New York'}\n",
        "d3.pop(\"age\")\n",
        "print(d3)\n"
      ],
      "metadata": {
        "colab": {
          "base_uri": "https://localhost:8080/"
        },
        "id": "qca4TWvxRMdH",
        "outputId": "7024f75d-0a45-4d09-f680-1a50d65b4bcd"
      },
      "execution_count": 48,
      "outputs": [
        {
          "output_type": "stream",
          "name": "stdout",
          "text": [
            "{'name': 'Bob', 'city': 'New York'}\n"
          ]
        }
      ]
    },
    {
      "cell_type": "code",
      "source": [
        "#Q25. Write a code to check if the key \"city\" exists in the dictionary {'name': 'Alice', 'city': 'Paris'}?\n",
        "\n",
        "d5 = {'name': 'Alice', 'city': 'Paris'}\n",
        "a = \"city\" in d5\n",
        "print(a)"
      ],
      "metadata": {
        "colab": {
          "base_uri": "https://localhost:8080/"
        },
        "id": "mJHDGBG7RqsS",
        "outputId": "f4935767-60e5-4d3f-bb54-b644074b05a2"
      },
      "execution_count": 52,
      "outputs": [
        {
          "output_type": "stream",
          "name": "stdout",
          "text": [
            "True\n"
          ]
        }
      ]
    },
    {
      "cell_type": "code",
      "source": [
        "#Q26. Write a code to create a list, a tuple, and a dictionary, and print them all?\n",
        "\n",
        "a = [1,2,3,4.5,6.5,True,3+4j]\n",
        "b = (7,8,9,9.9,8.9,False, 5+6j)\n",
        "c = {'name': 'Bob', 'age': 22, 'city': 'New York'}\n",
        "print(a)\n",
        "print(b)\n",
        "print(c)\n",
        "\n"
      ],
      "metadata": {
        "colab": {
          "base_uri": "https://localhost:8080/"
        },
        "id": "3ZvponBKSMYa",
        "outputId": "d8130d92-cfc9-4c5d-d2ac-4ef8009ee120"
      },
      "execution_count": 53,
      "outputs": [
        {
          "output_type": "stream",
          "name": "stdout",
          "text": [
            "[1, 2, 3, 4.5, 6.5, True, (3+4j)]\n",
            "(7, 8, 9, 9.9, 8.9, False, (5+6j))\n",
            "{'name': 'Bob', 'age': 22, 'city': 'New York'}\n"
          ]
        }
      ]
    },
    {
      "cell_type": "code",
      "source": [
        "#Q27. Write a code to create a list of 5 random numbers between 1 and 100, sort it in ascending order, and print the result.(replaced)?\n",
        "\n",
        "list1 = [19,21,24,89,45]\n",
        "list1.sort()\n",
        "print(list1)\n"
      ],
      "metadata": {
        "colab": {
          "base_uri": "https://localhost:8080/"
        },
        "id": "yIIOJmi1SmSW",
        "outputId": "fa975748-89f8-4f19-abff-3187395f3b34"
      },
      "execution_count": 61,
      "outputs": [
        {
          "output_type": "stream",
          "name": "stdout",
          "text": [
            "[19, 21, 24, 45, 89]\n"
          ]
        }
      ]
    },
    {
      "cell_type": "code",
      "source": [
        "#Q28. Write a code to create a list with strings and print the element at the third index.??\n",
        "\n",
        "l5 = [\"a\",\"b\",\"c\",\"d\"]\n",
        "print(l5[3])"
      ],
      "metadata": {
        "colab": {
          "base_uri": "https://localhost:8080/"
        },
        "id": "lMFtWTbDTi5x",
        "outputId": "6a8e989e-fb73-4811-877e-da97c1f68fa0"
      },
      "execution_count": 62,
      "outputs": [
        {
          "output_type": "stream",
          "name": "stdout",
          "text": [
            "d\n"
          ]
        }
      ]
    },
    {
      "cell_type": "code",
      "source": [
        "#Q29 Write a code to combine two dictionaries into one and print the result.\n",
        "\n",
        "c = {'name': 'Bob', 'age': 22, 'city': 'New York'}\n",
        "d = {\"name1\": \"Alice\", \"age1\": 30}\n",
        "s = {**c,**d}\n",
        "print(s)"
      ],
      "metadata": {
        "colab": {
          "base_uri": "https://localhost:8080/"
        },
        "id": "NUDSsYLVWBy0",
        "outputId": "8824a2b2-72cb-4eae-f590-abc03e28625a"
      },
      "execution_count": 70,
      "outputs": [
        {
          "output_type": "stream",
          "name": "stdout",
          "text": [
            "{'name': 'Bob', 'age': 22, 'city': 'New York', 'name1': 'Alice', 'age1': 30}\n"
          ]
        }
      ]
    },
    {
      "cell_type": "code",
      "source": [
        "#Q30. Write a code to convert a list of strings into a set?\n",
        "\n",
        "l1 = [1,2,3,\"a\",True,4+5j]\n",
        "print(set(l1))\n"
      ],
      "metadata": {
        "colab": {
          "base_uri": "https://localhost:8080/"
        },
        "id": "-rnS-7zlWnr0",
        "outputId": "34271dc0-aa65-4abc-c768-ef3868ca1774"
      },
      "execution_count": 73,
      "outputs": [
        {
          "output_type": "stream",
          "name": "stdout",
          "text": [
            "{'a', 1, 2, 3, (4+5j)}\n"
          ]
        }
      ]
    }
  ]
}