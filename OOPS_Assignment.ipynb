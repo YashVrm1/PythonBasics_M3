{
  "nbformat": 4,
  "nbformat_minor": 0,
  "metadata": {
    "colab": {
      "provenance": []
    },
    "kernelspec": {
      "name": "python3",
      "display_name": "Python 3"
    },
    "language_info": {
      "name": "python"
    }
  },
  "cells": [
    {
      "cell_type": "markdown",
      "source": [
        "#YASH VERMA(VISHU VERMA) - ASSIGNMENT - MODULE 6 - OOPS"
      ],
      "metadata": {
        "id": "wFPBpA2-gKQ1"
      }
    },
    {
      "cell_type": "markdown",
      "source": [
        "#Practical Questions\n"
      ],
      "metadata": {
        "id": "q43igoW7_nO1"
      }
    },
    {
      "cell_type": "code",
      "execution_count": null,
      "metadata": {
        "colab": {
          "base_uri": "https://localhost:8080/"
        },
        "id": "KOojo9GrMEui",
        "outputId": "ac9bb3c3-766f-428e-ad4c-f4015011134f"
      },
      "outputs": [
        {
          "output_type": "stream",
          "name": "stdout",
          "text": [
            "This is an Animal Class\n",
            "Bark!\n"
          ]
        }
      ],
      "source": [
        "\"\"\"#Q1. Create a parent class Animal with a method speak() that prints a generic\n",
        "message. Create a child class Dog that overrides the speak() method\n",
        "to print \"Bark!\".\"\"\"\n",
        "\n",
        "class Animal:\n",
        "  def speak(self):\n",
        "    print(\"This is an Animal Class\")\n",
        "\n",
        "class Dog(Animal):\n",
        "  def speak(self):\n",
        "    print(\"Bark!\")\n",
        "\n",
        "\n",
        "obj1 = Animal()\n",
        "obj2 = Dog()\n",
        "obj1.speak()\n",
        "obj2.speak()"
      ]
    },
    {
      "cell_type": "code",
      "source": [
        "\"\"\"Q2. Write a program to create an abstract class Shape with a method area().\n",
        "Derive classes Circle and Rectangle from it and implement the area() method\n",
        "in both.\"\"\"\n",
        "\n",
        "from abc import ABC, abstractmethod\n",
        "\n",
        "class Shape(ABC):\n",
        "    @abstractmethod\n",
        "    def area(self):\n",
        "        pass\n",
        "\n",
        "class Circle(Shape):\n",
        "\n",
        "    def __init__(self, radius):\n",
        "        self.radius = radius\n",
        "\n",
        "    def area(self):\n",
        "        return (\"Area of Circle\", 3.14 * self.radius * self.radius)\n",
        "\n",
        "class Rectangle(Shape):\n",
        "    def __init__(self, l, b):\n",
        "        self.l = l\n",
        "        self.b = b\n",
        "\n",
        "    def area(self):\n",
        "        return (\"Area of Rectangle\", self.l * self.b)\n",
        "\n",
        "\n",
        "obj1 = Circle(5)\n",
        "print(obj1.area())\n",
        "\n",
        "obj2 = Rectangle(5, 4)\n",
        "print(obj2.area())\n",
        "\n",
        "\n",
        "''' In Shape, we declared area(self) as the abstract method. That means any\n",
        "subclass is expected to override it with exactly that signature:\n",
        "def area(self) — no extra positional arguments.But in Circle and Rectangle,\n",
        "we're overriding area() with extra parameters (radius, l, b),\n",
        "which breaks strict overriding and can cause problems if you're working\n",
        "with polymorphism or type checking tools.'''\n"
      ],
      "metadata": {
        "colab": {
          "base_uri": "https://localhost:8080/"
        },
        "id": "_mJxMUpkMgZo",
        "outputId": "603881c4-1947-4ebd-c5ad-84bfc58cf6e6"
      },
      "execution_count": null,
      "outputs": [
        {
          "output_type": "stream",
          "name": "stdout",
          "text": [
            "('Area of Circle', 78.5)\n",
            "('Area of Rectangle', 20)\n"
          ]
        }
      ]
    },
    {
      "cell_type": "code",
      "source": [
        "'''Q3. Implement a multi-level inheritance scenario where a class Vehicle has\n",
        "an attribute type. Derive a class Car and further derive a class\n",
        "ElectricCar that adds a battery attribute. '''\n",
        "\n",
        "class Vehicle:\n",
        "    def __init__(self, vehicle_type, speed, transmission):\n",
        "        self.type = vehicle_type\n",
        "        self.speed = speed\n",
        "        self.transmission = transmission\n",
        "\n",
        "class Car(Vehicle):\n",
        "\n",
        "    def features(self):\n",
        "\n",
        "        if self.speed <= 0:\n",
        "            print(\"Car is not moving\")\n",
        "        else:\n",
        "            return f\"Type: {self.type}, Speed: {self.speed}, Transmission: {self.transmission}\"\n",
        "\n",
        "class ElectricCar(Car):\n",
        "\n",
        "    def __init__(self, vehicle_type, speed, transmission, battery):\n",
        "\n",
        "        super().__init__(vehicle_type, speed, transmission)\n",
        "        self.battery = battery\n",
        "\n",
        "\n",
        "    def features(self):\n",
        "\n",
        "        if self.speed <= 0:\n",
        "            print(\"Electric Car is not moving\")\n",
        "        else:\n",
        "            return f\"Type: {self.type}, Speed: {self.speed}, Transmission: {self.transmission}, Battery: {self.battery}\"\n",
        "\n",
        "\n",
        "c1 = Car(\"Sedan\", 100, \"Automatic\")\n",
        "print(c1.features())\n",
        "\n",
        "\n",
        "c2 = ElectricCar(\"EV\", 100 , \"Automatic\", \"Litium-Ion\")\n",
        "print(c2.features())\n",
        "\n",
        "\n",
        "''' There’s no __init__() in Car, so what does super().__init__() do?\n",
        "Answer:\n",
        "Even though the Car class doesn't have its own __init__(), it inherits it from Vehicle.\n",
        "\n",
        "So when we write this:\n",
        "super().__init__(vehicle_type, speed, transmission)\n",
        "Inside ElectricCar, super() refers to the parent class of ElectricCar, which is Car.\n",
        "\n",
        "Since Car doesn't define an __init__() of its own, Python goes up one more level to Vehicle and calls Vehicle.__init__().\n",
        "\n",
        "Python automatically climbs the inheritance chain until it finds a matching method — this is called method resolution order (MRO).'''"
      ],
      "metadata": {
        "colab": {
          "base_uri": "https://localhost:8080/"
        },
        "id": "SHQRGBoXNgh_",
        "outputId": "e12c80b9-f8a3-49d2-f460-068a27263765"
      },
      "execution_count": null,
      "outputs": [
        {
          "output_type": "stream",
          "name": "stdout",
          "text": [
            "Type: Sedan, Speed: 100, Transmission: Automatic\n",
            "Type: EV, Speed: 100, Transmission: Automatic, Battery: Litium-Ion\n"
          ]
        }
      ]
    },
    {
      "cell_type": "code",
      "source": [
        "''' Q4. Demonstrate polymorphism by creating a base class Bird with a\n",
        "method fly(). Create two derived classes Sparrow and Penguin that override\n",
        "the fly() method. '''\n",
        "\n",
        "class Bird:\n",
        "\n",
        "  def fly(self):\n",
        "    print(\"A bird can fly\")\n",
        "\n",
        "class Sparrow(Bird):\n",
        "\n",
        "  def fly(self):\n",
        "    print(\"A Sparrow is flying\")\n",
        "\n",
        "class Penguin(Bird):\n",
        "\n",
        "  def fly(self):\n",
        "    print(\"Penguin is unique bird which cannot fly\")\n",
        "\n",
        "\n",
        "b = Bird()\n",
        "b.fly()\n",
        "\n",
        "b1 = Sparrow()\n",
        "b1.fly()\n",
        "\n",
        "b2 = Penguin()\n",
        "b2.fly()\n",
        "\n",
        "b3 = [Sparrow(),Penguin()]\n",
        "\n",
        "for bird in b3:\n",
        "  bird.fly()"
      ],
      "metadata": {
        "colab": {
          "base_uri": "https://localhost:8080/"
        },
        "id": "tyxhd2RPeClz",
        "outputId": "bdd59866-c9c3-44dc-f716-c0d65840d1c3"
      },
      "execution_count": null,
      "outputs": [
        {
          "output_type": "stream",
          "name": "stdout",
          "text": [
            "A bird can fly\n",
            "A Sparrow is flying\n",
            "Penguin is unique bird which cannot fly\n",
            "A Sparrow is flying\n",
            "Penguin is unique bird which cannot fly\n"
          ]
        }
      ]
    },
    {
      "cell_type": "code",
      "source": [
        "'''Q5.Write a program to demonstrate encapsulation by creating a class\n",
        "BankAccount with private attributes balance and methods to deposit, withdraw,\n",
        "and check balance.'''\n",
        "\n",
        "class BankAccount:\n",
        "\n",
        "  def __init__(self, balance):\n",
        "\n",
        "    self.__balance = balance\n",
        "\n",
        "  def deposit(self, deposit):\n",
        "\n",
        "    self.deposit = deposit\n",
        "    self.__balance += deposit\n",
        "    return (\"Updated Balance After Deposit: \", self.__balance)\n",
        "\n",
        "  def withdraw(self, withdraw):\n",
        "\n",
        "    if self.__balance < withdraw:\n",
        "      return(\"Insufficient Error\")\n",
        "\n",
        "\n",
        "    self.withdraw = withdraw\n",
        "    self.__balance -= withdraw\n",
        "    return(\"Updated Balance After Withdrawl: \", self.__balance)\n",
        "\n",
        "  def check_balance(self):\n",
        "\n",
        "    return self.__balance\n",
        "\n",
        "bank1 = BankAccount(10000)\n",
        "bank1.deposit(10000)\n",
        "bank1.withdraw(2100)\n",
        "bank1.check_balance()"
      ],
      "metadata": {
        "colab": {
          "base_uri": "https://localhost:8080/"
        },
        "id": "BSlrkRFymd5t",
        "outputId": "bfdb87fe-be98-40f6-9bea-94d2861ded67"
      },
      "execution_count": null,
      "outputs": [
        {
          "output_type": "execute_result",
          "data": {
            "text/plain": [
              "17900"
            ]
          },
          "metadata": {},
          "execution_count": 93
        }
      ]
    },
    {
      "cell_type": "code",
      "source": [
        "'''Q6. 6. Demonstrate runtime polymorphism using a method play() in a base\n",
        "class Instrument. Derive classes Guitar and Piano that implement their own\n",
        "version of play(). '''\n",
        "\n",
        "class Instrument:\n",
        "\n",
        "  def play(self):\n",
        "    print(\"There are different types of Musical Instruments\")\n",
        "\n",
        "class Guitar(Instrument):\n",
        "\n",
        "  def play(self):\n",
        "    print(\"Guitar is a String based Musical Instrument\")\n",
        "\n",
        "class Piano(Instrument):\n",
        "\n",
        "  def play(self):\n",
        "    print(\"Piano is Key based Musical Instrument\")\n",
        "\n",
        "\n",
        "music = [Guitar(), Piano()]\n",
        "for i in music:\n",
        "  i.play()"
      ],
      "metadata": {
        "colab": {
          "base_uri": "https://localhost:8080/"
        },
        "id": "yeDLddcRd9af",
        "outputId": "0baff53a-91b5-4bdc-f889-7e4d01f15690"
      },
      "execution_count": null,
      "outputs": [
        {
          "output_type": "stream",
          "name": "stdout",
          "text": [
            "Guitar is a String based Musical Instrument\n",
            "Piano is Key based Musical Instrument\n"
          ]
        }
      ]
    },
    {
      "cell_type": "code",
      "source": [
        "''' Q7. Create a class MathOperations with a class method add_numbers()\n",
        "to add two numbers and a static method subtract_numbers() to subtract\n",
        "two numbers. '''\n",
        "\n",
        "class MathOperations:\n",
        "\n",
        "  @classmethod\n",
        "  def add_numbers(cls,a,b):\n",
        "    return a + b\n",
        "\n",
        "  @staticmethod\n",
        "  def subtract_numbers(a,b):\n",
        "    return a - b\n",
        "\n",
        "MathOperations.add_numbers(10,12)\n",
        "MathOperations.subtract_numbers(15,12)"
      ],
      "metadata": {
        "id": "WcQsXrOBtDg7",
        "colab": {
          "base_uri": "https://localhost:8080/"
        },
        "outputId": "e94eb8ef-3a6d-4768-d542-a69de99523a1"
      },
      "execution_count": 5,
      "outputs": [
        {
          "output_type": "execute_result",
          "data": {
            "text/plain": [
              "3"
            ]
          },
          "metadata": {},
          "execution_count": 5
        }
      ]
    },
    {
      "cell_type": "code",
      "source": [
        "'''Q8 Implement a class Person with a class method to count the total number\n",
        "of persons created'''\n",
        "\n",
        "class Person:\n",
        "  total_number = 0\n",
        "\n",
        "\n",
        "  def __init__(self):\n",
        "    Person.total_number += 1\n",
        "\n",
        "  @classmethod\n",
        "  def check_total(cls):\n",
        "\n",
        "    return Person.total_number\n",
        "\n",
        "c1 = Person()\n",
        "c2 = Person()\n",
        "Person.check_total()"
      ],
      "metadata": {
        "colab": {
          "base_uri": "https://localhost:8080/"
        },
        "id": "MIG7z-s1vqda",
        "outputId": "61699b54-797a-48e0-b9ca-ed2656198b63"
      },
      "execution_count": null,
      "outputs": [
        {
          "output_type": "execute_result",
          "data": {
            "text/plain": [
              "2"
            ]
          },
          "metadata": {},
          "execution_count": 125
        }
      ]
    },
    {
      "cell_type": "code",
      "source": [
        "'''Q9. Write a class Fraction with attributes numerator and denominator.\n",
        "Override the str method to display the fraction as \"numerator/denominator\". '''\n",
        "\n",
        "class Fraction:\n",
        "\n",
        "  def __init__(self,numerator,denominator):\n",
        "\n",
        "    self.numerator = numerator\n",
        "    self.denominator = denominator\n",
        "\n",
        "  def __str__(self):\n",
        "\n",
        "    return (f\"{self.numerator}/{self.denominator}\")\n",
        "\n",
        "frac = Fraction(113,2)\n",
        "print(frac)"
      ],
      "metadata": {
        "colab": {
          "base_uri": "https://localhost:8080/"
        },
        "id": "zEmBnkd2yTcr",
        "outputId": "92489796-5338-43d6-81d8-554416324aa4"
      },
      "execution_count": null,
      "outputs": [
        {
          "output_type": "stream",
          "name": "stdout",
          "text": [
            "113/2\n"
          ]
        }
      ]
    },
    {
      "cell_type": "code",
      "source": [
        "''' Q10.Demonstrate operator overloading by creating a class Vector and overriding\n",
        "the add method to add two vectors. '''\n",
        "\n",
        "class Vector:\n",
        "\n",
        "  def __init__(self,x,y):\n",
        "    self.x = x\n",
        "    self.y = y\n",
        "\n",
        "\n",
        "  def __add__(self, other):\n",
        "    return Vector(self.x + other.x , self.y + other.y)\n",
        "\n",
        "  def __str__(self):\n",
        "    return f\"{self.x},{self.y}\"\n",
        "\n",
        "\n",
        "\n",
        "\n",
        "v1 = Vector(5,5)\n",
        "v2 = Vector(6,7)\n",
        "v3 = v1 + v2\n",
        "print(v3)"
      ],
      "metadata": {
        "colab": {
          "base_uri": "https://localhost:8080/"
        },
        "id": "vIJisiHn3LKh",
        "outputId": "805baee2-49a2-4477-b5cd-4675c6ce84d2"
      },
      "execution_count": null,
      "outputs": [
        {
          "output_type": "stream",
          "name": "stdout",
          "text": [
            "11,12\n"
          ]
        }
      ]
    },
    {
      "cell_type": "code",
      "source": [
        "''' Q11. Create a class Person with attributes name and age.\n",
        "Add a method greet() that prints \"Hello, my name is {name} and I am {age} years\n",
        "old. '''\n",
        "\n",
        "class Person:\n",
        "\n",
        "  def __init__(self,name,age):\n",
        "\n",
        "    self.name = name\n",
        "    self.age = age\n",
        "\n",
        "  def greet(self):\n",
        "    print(f\"Hello, my name is {self.name}, and I am {self.age} years old\")\n",
        "\n",
        "P = Person(\"Yash\", 30)\n",
        "P.greet()\n",
        "\n",
        "\n"
      ],
      "metadata": {
        "colab": {
          "base_uri": "https://localhost:8080/"
        },
        "id": "SK9YJgVF4aKB",
        "outputId": "33b1b06a-969a-4e09-dca6-52bf6cdad52d"
      },
      "execution_count": null,
      "outputs": [
        {
          "output_type": "stream",
          "name": "stdout",
          "text": [
            "Hello, my name is Yash, and I am 30 years old\n"
          ]
        }
      ]
    },
    {
      "cell_type": "code",
      "source": [
        "''' Q12. Implement a class Student with attributes name and grades.\n",
        "Create a method average_grade() to compute the average of the grades. '''\n",
        "\n",
        "class Student:\n",
        "    def __init__(self, name, grades):\n",
        "        self.name = name\n",
        "        self.grades = grades\n",
        "\n",
        "    def average_grade(self):\n",
        "        return round(sum(self.grades) / len(self.grades),2)\n",
        "\n",
        "\n",
        "s1 = Student(\"Yash\", [85, 90, 95])\n",
        "s2 = Student(\"Rahul\", [80, 70, 75])\n",
        "s3 = Student(\"Aman\", [88, 92, 84])\n",
        "s4 = Student(\"Vishu\", [100, 98, 97])\n",
        "\n",
        "print(s1.average_grade())\n",
        "print(s2.average_grade())\n",
        "print(s3.average_grade())\n",
        "print(s4.average_grade())"
      ],
      "metadata": {
        "colab": {
          "base_uri": "https://localhost:8080/"
        },
        "id": "8OyYCxkS4c57",
        "outputId": "99d4c860-8c61-46d6-dc66-965868c443b9"
      },
      "execution_count": null,
      "outputs": [
        {
          "output_type": "stream",
          "name": "stdout",
          "text": [
            "90.0\n",
            "75.0\n",
            "88.0\n",
            "98.33\n"
          ]
        }
      ]
    },
    {
      "cell_type": "code",
      "source": [
        "''' Q13. Create a class Rectangle with methods set_dimensions() to set the\n",
        "dimensions and area() to calculate the area. '''\n",
        "\n",
        "class Rectangle:\n",
        "\n",
        "  def set_dimensions(self, l ,b):\n",
        "\n",
        "    self.l = l\n",
        "    self.b = b\n",
        "\n",
        "  def area(self):\n",
        "\n",
        "    return (f\"Area is: {self.l * self.b}\")\n",
        "\n",
        "r1 = Rectangle()\n",
        "r1.set_dimensions(10,5)\n",
        "r1.area()\n",
        "\n",
        "\n"
      ],
      "metadata": {
        "colab": {
          "base_uri": "https://localhost:8080/",
          "height": 36
        },
        "id": "yanTL0MfEJ5q",
        "outputId": "446a496d-c2dd-4835-b0e4-4b7f56495a4b"
      },
      "execution_count": null,
      "outputs": [
        {
          "output_type": "execute_result",
          "data": {
            "text/plain": [
              "'Area is: 50'"
            ],
            "application/vnd.google.colaboratory.intrinsic+json": {
              "type": "string"
            }
          },
          "metadata": {},
          "execution_count": 28
        }
      ]
    },
    {
      "cell_type": "code",
      "source": [
        "''' Q14. Create a class Employee with a method calculate_salary() that computes\n",
        "the salary based on hours worked and hourly rate. Create a derived class\n",
        "Manager  that adds a bonus to the salary.'''\n",
        "\n",
        "\n",
        "class Employee:\n",
        "    def calculate_salary(self, hours_worked, hourly_rate):\n",
        "        self.salary = hours_worked * hourly_rate\n",
        "        return self.salary\n",
        "\n",
        "class Manager(Employee):\n",
        "    def calculate_salary(self, hours_worked, hourly_rate, bonus=0):\n",
        "        base_salary = super().calculate_salary(hours_worked, hourly_rate)\n",
        "        self.salary = base_salary + bonus\n",
        "        return self.salary\n",
        "\n",
        "e1 = Employee()\n",
        "print(\"Employee salary:\", e1.calculate_salary(10, 1000))\n",
        "\n",
        "m1 = Manager()\n",
        "print(\"Manager salary:\", m1.calculate_salary(10, 1000, bonus=5000))\n"
      ],
      "metadata": {
        "colab": {
          "base_uri": "https://localhost:8080/"
        },
        "id": "OEU0wm2cEFLX",
        "outputId": "da3ecdc9-a96a-4fd9-c42d-c09e02e13e61"
      },
      "execution_count": null,
      "outputs": [
        {
          "output_type": "stream",
          "name": "stdout",
          "text": [
            "Employee salary: 10000\n",
            "Manager salary: 15000\n"
          ]
        }
      ]
    },
    {
      "cell_type": "code",
      "source": [
        "''' Q15. Create a class Product with attributes name, price, and quantity.\n",
        "Implement a method total_price() that calculates the total price of the product. '''\n",
        "\n",
        "class Product:\n",
        "\n",
        "  def __init__ (self,name,price, quantity):\n",
        "\n",
        "    self.name = name\n",
        "    self.price = price\n",
        "    self.quantity = quantity\n",
        "\n",
        "  def total_price(self):\n",
        "\n",
        "    return self.price * self.quantity\n",
        "\n",
        "\n",
        "p1 = Product(\"Mobile\", 15000, 5)\n",
        "print(p1.total_price())\n",
        "\n",
        "\n",
        "\n"
      ],
      "metadata": {
        "colab": {
          "base_uri": "https://localhost:8080/"
        },
        "id": "HPDuImCIQ444",
        "outputId": "39c4d7eb-2909-47b2-aa3d-c91c9551776c"
      },
      "execution_count": null,
      "outputs": [
        {
          "output_type": "stream",
          "name": "stdout",
          "text": [
            "75000\n"
          ]
        }
      ]
    },
    {
      "cell_type": "code",
      "source": [
        "''' Q16. Create a class Animal with an abstract method sound(). Create two\n",
        "derived classes Cow and Sheep that implement the sound() method. '''\n",
        "\n",
        "from abc import ABC, abstractmethod\n",
        "\n",
        "class Animal(ABC):\n",
        "\n",
        "  @abstractmethod\n",
        "  def sound(self):\n",
        "    pass\n",
        "\n",
        "class Cow(Animal):\n",
        "\n",
        "  def sound(self):\n",
        "    print(\"Mooo\")\n",
        "\n",
        "class Sheep(Animal):\n",
        "\n",
        "  def sound(self):\n",
        "    print(\"Mehhhhhh\")\n",
        "\n",
        "s1 = [Cow(),Sheep()]\n",
        "for i in s1:\n",
        "  i.sound()"
      ],
      "metadata": {
        "colab": {
          "base_uri": "https://localhost:8080/"
        },
        "id": "3s0KsppttY78",
        "outputId": "d3c9216f-68fe-400d-a5fd-10e205973c52"
      },
      "execution_count": null,
      "outputs": [
        {
          "output_type": "stream",
          "name": "stdout",
          "text": [
            "Mooo\n",
            "Mehhhhhh\n"
          ]
        }
      ]
    },
    {
      "cell_type": "code",
      "source": [
        "''' Q17. Create a class Book with attributes title, author, and year_published.\n",
        "Add a method get_book_info() that returns a formatted string with the book's\n",
        "details. '''\n",
        "\n",
        "class Book:\n",
        "\n",
        "  def __init__(self,title,author,year_published):\n",
        "\n",
        "    self.title = title\n",
        "    self.author = author\n",
        "    self.year_published = year_published\n",
        "\n",
        "  def get_book_info(self):\n",
        "    return f\"Books Details: Title -- {self.title}, Author -- {self.author}, Year -- {self.year_published}\"\n",
        "\n",
        "\n",
        "b1 = Book(\"Advancement of AI\", \"PWSKILLS\", \"2025\")\n",
        "print(b1.get_book_info())"
      ],
      "metadata": {
        "colab": {
          "base_uri": "https://localhost:8080/"
        },
        "id": "FqNDPH0iukws",
        "outputId": "398e341a-879b-462d-af2e-29ada67a1050"
      },
      "execution_count": null,
      "outputs": [
        {
          "output_type": "stream",
          "name": "stdout",
          "text": [
            "Books Details: Title -- Advancement of AI, Author -- PWSKILLS, Year -- 2025\n"
          ]
        }
      ]
    },
    {
      "cell_type": "code",
      "source": [
        "''' Q18. Create a class House with attributes address and price. Create a\n",
        "derived class Mansion that adds an attribute number_of_rooms. '''\n",
        "\n",
        "class House:\n",
        "f\n",
        "  def __init__(self,address,price):\n",
        "\n",
        "    self.address = address\n",
        "    self.price = price\n",
        "\n",
        "class Mansion(House):\n",
        "\n",
        "  def __init__ (self,address, price, number_of_rooms):\n",
        "\n",
        "    super().__init__(address, price)\n",
        "    self.number_of_rooms = number_of_rooms\n",
        "\n",
        "  def __str__(self):\n",
        "    return (f\"Mansion at {self.address}, Price: {self.price}, Rooms: {self.number_of_rooms}\")\n",
        "\n",
        "\n",
        "h1 = House(\"Delhi\", 150000)\n",
        "h2 = Mansion(\"Mumbai\", 500000, 5)\n",
        "print(h2)"
      ],
      "metadata": {
        "colab": {
          "base_uri": "https://localhost:8080/"
        },
        "id": "ayakj46tv0E0",
        "outputId": "916a82ee-9325-453c-9854-d439575ba3cd"
      },
      "execution_count": null,
      "outputs": [
        {
          "output_type": "stream",
          "name": "stdout",
          "text": [
            "Mansion at Mumbai, Price: 500000, Rooms: 5\n"
          ]
        }
      ]
    },
    {
      "cell_type": "markdown",
      "source": [
        "#Theoratical Questions"
      ],
      "metadata": {
        "id": "LAq__GJ2_s1V"
      }
    },
    {
      "cell_type": "markdown",
      "source": [
        "#Q1. What is Object-Oriented Programming (OOP)?\n",
        "\n",
        "* Object-Oriented Programming (OOP) is a way of writing code using classes and objects to model real-world things.\n"
      ],
      "metadata": {
        "id": "IJm7h4Im_0GR"
      }
    },
    {
      "cell_type": "markdown",
      "source": [
        "#Q2. What is a class in OOP?\n",
        "\n",
        "*  A class is a blueprint for creating objects. It defines properties (variables) and behaviors (methods) that object will have.\n"
      ],
      "metadata": {
        "id": "RHv2snZmAGMP"
      }
    },
    {
      "cell_type": "markdown",
      "source": [
        "# Q3. What is an object in OOP?\n",
        "\n",
        "* An object in OOP is an instance of a class. It has real values for the attributes and can perform actions using the methods defined in the class\n"
      ],
      "metadata": {
        "id": "AzBANy-5Avqh"
      }
    },
    {
      "cell_type": "markdown",
      "source": [
        "#Q4.  What is the difference between abstraction and encapsulation?\n",
        "\n",
        "* Abstraction\n",
        "  - Hides the complex details and shows only the important things. Example: You drive a car without knowing how the engine works.\n",
        "\n",
        "  - Abstraction = Hiding complexity\n",
        "\n",
        "* Encapsulation\n",
        "\n",
        "  - Hides the internal data by keeping it private and provides access through methods. Example: In a class, you use __balance and access it only using get_balance().\n",
        "\n",
        "  - Encapsulation = Hiding data\n",
        "\n",
        "\n",
        "\n",
        "\n"
      ],
      "metadata": {
        "id": "AsVvGPQvBjny"
      }
    },
    {
      "cell_type": "markdown",
      "source": [
        "#Q5. What are dunder methods in Python?\n",
        "\n",
        "* Dunder methods (short for Double UNDerscore) are special methods in Python with names like `__init__`, `__str__`, `__add__`.\n",
        "\n",
        "* They let you define how objects behave with built-in operations.\n",
        "\n",
        "Example:\n",
        "\n",
        "```python\n",
        "\n",
        "class Book:\n",
        "    def __init__(self, title):\n",
        "        self.title = title\n",
        "\n",
        "    def __str__(self):\n",
        "        return f\"Book: {self.title}\"\n",
        "\n",
        "b = Book(\"Python Basics\")\n",
        "print(b)\n",
        "\n",
        "```\n",
        "\n",
        "Here, `__init__` runs when the object is created, and `__str__` controls how it prints.\n"
      ],
      "metadata": {
        "id": "aWdybVxuCLxl"
      }
    },
    {
      "cell_type": "markdown",
      "source": [
        "#Q6. Explain the concept of inheritance in OOPS?\n",
        "\n",
        "* Inheritance allows a class (**child**) to use the properties and methods of another class (parent). It helps with code reuse and organizing code better.\n",
        "\n",
        "```python\n",
        "\n",
        "class Animal:\n",
        "    def speak(self):\n",
        "        print(\"Animal speaks\")\n",
        "\n",
        "class Dog(Animal):  \n",
        "    def bark(self):\n",
        "        print(\"Dog barks\")\n",
        "\n",
        "d = Dog()\n",
        "d.speak()  \n",
        "d.bark()   \n",
        "\n",
        "```\n",
        "Types of Inheritance in Python:\n",
        "\n",
        "1. **Single Inheritance**\n",
        "   One child inherits from one parent. `class Dog(Animal):`\n",
        "\n",
        "2. **Multiple Inheritance**\n",
        "   One child inherits from multiple parents. `class Child(Mother, Father):`\n",
        "\n",
        "3. **Multilevel Inheritance**\n",
        "   A class inherits from a child class, which inherits from another. `class GrandChild(Child):`\n",
        "\n",
        "4. **Hierarchical Inheritance**\n",
        "   Multiple children inherit from the same parent. `class Cat(Animal), class Dog(Animal)`\n",
        "\n",
        "5. **Hybrid Inheritance**\n",
        "   Combination of two or more types above.\n",
        "\n",
        "\n"
      ],
      "metadata": {
        "id": "grkuVf_gE7rd"
      }
    },
    {
      "cell_type": "markdown",
      "source": [
        "#Q7. What is polymorphism in OOPS?\n",
        "\n",
        "* **Polymorphism** means **one function or method behaves differently** depending on the object using it.\n",
        "\n",
        "Example:\n",
        "\n",
        "```python\n",
        "\n",
        "class Dog:\n",
        "    def speak(self):\n",
        "        print(\"Bark\")\n",
        "\n",
        "class Cat:\n",
        "    def speak(self):\n",
        "        print(\"Meow\")\n",
        "\n",
        "for animal in (Dog(), Cat()):\n",
        "    animal.speak()\n",
        "\n",
        "```\n",
        "\n",
        "`speak()` works differently for **Dog** and **Cat**, even though the method name is the same.\n"
      ],
      "metadata": {
        "id": "PfBcG68RF17S"
      }
    },
    {
      "cell_type": "markdown",
      "source": [
        "#Q8. How is encapsulation achieved in Python?\n",
        "\n",
        "* **Encapsulation** in Python is achieved by **hiding data** using **private variables** and **providing access through methods**.\n",
        "\n",
        "Example:\n",
        "\n",
        "```python\n",
        "\n",
        "class BankAccount:\n",
        "    def __init__(self):\n",
        "        self.__balance = 0  \n",
        "\n",
        "    def deposit(self, amount):\n",
        "        self.__balance += amount\n",
        "\n",
        "    def get_balance(self):\n",
        "        return self.__balance\n",
        "\n",
        "acc = BankAccount()\n",
        "acc.deposit(1000)\n",
        "print(acc.get_balance())\n",
        "\n",
        "or\n",
        "\n",
        "# Method 2: Access using name mangling\n",
        "print(acc._BankAccount__balance)\n",
        "\n",
        "```\n",
        "\n",
        "* `__balance` is hidden (encapsulated) and accessed through methods.\n",
        "* `__balance` can be accessed using name mangling too.\n"
      ],
      "metadata": {
        "id": "mYgzgBpcGZBK"
      }
    },
    {
      "cell_type": "markdown",
      "source": [
        "#Q9. What is a constructor in Python?\n",
        "\n",
        "* A **constructor** in Python is a special method called **`__init__`** that runs **automatically** when an object is created.\n",
        "\n",
        "Example:\n",
        "\n",
        "```python\n",
        "\n",
        "class Student:\n",
        "    def __init__(self, name):\n",
        "        self.name = name\n",
        "\n",
        "s = Student(\"Yash\")\n",
        "print(s.name)  \n",
        "\n",
        "```\n",
        "Here, `__init__` sets the initial value of `name` when the object is made.\n"
      ],
      "metadata": {
        "id": "6yTwth7_HiyL"
      }
    },
    {
      "cell_type": "markdown",
      "source": [
        "#Q10. What are class and static methods in Python?\n",
        "\n",
        "\n",
        "**Class Method**\n",
        "\n",
        "* Works with the **class** (`cls`), not the object.\n",
        "* Defined using `@classmethod`.\n",
        "* Can access or modify class variables.\n",
        "\n",
        "**Static Method**\n",
        "\n",
        "* Doesn't use `self` or `cls`.\n",
        "* Defined using `@staticmethod`.\n",
        "* Acts like a regular function inside a class.\n",
        "\n",
        "Example:\n",
        "\n",
        "```python\n",
        "\n",
        "class MyClass:\n",
        "    class_var = 0\n",
        "\n",
        "    @classmethod\n",
        "    def show_class(cls):\n",
        "        print(\"Class method:\", cls.class_var)\n",
        "\n",
        "    @staticmethod\n",
        "    def greet():\n",
        "        print(\"Static method: Hello!\")\n",
        "\n",
        "MyClass.show_class()  \n",
        "MyClass.greet()       \n",
        "\n",
        "```\n"
      ],
      "metadata": {
        "id": "RH6Sh-peOLdL"
      }
    },
    {
      "cell_type": "markdown",
      "source": [
        "#Q11. What is method overloading in Python?\n",
        "\n",
        "* Method Overloading means having multiple methods with the same name but different parameters.\n",
        "\n",
        "* Python **does not support** method overloading directly. If you define the same method twice, the **last one** replaces the earlier.\n",
        "\n",
        "* But you can **mimic** it using **default arguments** or `*args`:\n",
        "\n",
        "```python\n",
        "\n",
        "class Calculator:\n",
        "    def add(self, a, b=0):\n",
        "        return a + b\n",
        "\n",
        "calc = Calculator()\n",
        "print(calc.add(5))      # 5 + 0 = 5\n",
        "print(calc.add(5, 3))   # 5 + 3 = 8\n",
        "\n",
        "```\n",
        "Same method `add()` works with one or two arguments.\n",
        "\n"
      ],
      "metadata": {
        "id": "y8GnaniqOg2v"
      }
    },
    {
      "cell_type": "markdown",
      "source": [
        "#Q12. What is method overriding in OOP?\n",
        "\n",
        "* **Method Overriding** means redefining a **parent class method** in the **child class** to change its behavior.\n",
        "\n",
        "Example:\n",
        "\n",
        "```python\n",
        "\n",
        "class Animal:\n",
        "    def speak(self):\n",
        "        print(\"Animal speaks\")\n",
        "\n",
        "class Dog(Animal):\n",
        "    def speak(self):\n",
        "        print(\"Dog barks\")\n",
        "\n",
        "d = Dog()\n",
        "d.speak()  # Output: Dog barks\n",
        "\n",
        "```\n",
        "The `Dog` class **overrides** the `speak()` method of `Animal`.\n",
        "\n"
      ],
      "metadata": {
        "id": "P4FXJ3qVRpvr"
      }
    },
    {
      "cell_type": "markdown",
      "source": [
        "# Q13.What is a property decorator in Python?\n",
        "\n",
        "## **`@property` Decorator**\n",
        "\n",
        "* It lets you **use a method like an attribute** — no need for parentheses `()`.\n",
        "Example:\n",
        "\n",
        "```python\n",
        "\n",
        "class Circle:\n",
        "    def __init__(self, radius):\n",
        "        self._radius = radius\n",
        "\n",
        "    @property\n",
        "    def area(self):\n",
        "        return 3.14 * self._radius * self._radius\n",
        "\n",
        "c = Circle(5)\n",
        "print(c.area)  # No () needed, behaves like a variable\n",
        "```\n",
        "\n",
        "`@property` is used to **get values** cleanly while still using method logic.\n",
        "\n"
      ],
      "metadata": {
        "id": "jtt6vLv1SLi-"
      }
    },
    {
      "cell_type": "markdown",
      "source": [
        "#Q14. Why is polymorphism important in OOP?\n",
        "\n",
        "**Polymorphism** is important because:\n",
        "\n",
        "* It lets **one function work with different types of objects**\n",
        "* You can **write less code** that does **more work**\n",
        "* It makes programs easier to **update and expand**\n",
        "\n",
        "Example:\n",
        "\n",
        "```python\n",
        "\n",
        "class Dog:\n",
        "    def sound(self):\n",
        "        print(\"Bark\")\n",
        "\n",
        "class Cat:\n",
        "    def sound(self):\n",
        "        print(\"Meow\")\n",
        "\n",
        "# One function, works for both.\n",
        "\n",
        "for animal in [Dog(), Cat()]:\n",
        "    animal.sound()\n",
        "\n",
        "```\n",
        "\n",
        "Even though `Dog` and `Cat` are different, the same `sound()` method works — that's polymorphism!\n",
        "\n"
      ],
      "metadata": {
        "id": "91Yozbl9SmDX"
      }
    },
    {
      "cell_type": "markdown",
      "source": [
        "#Q15. What is an abstract class in Python?\n",
        "\n",
        "**Abstract Class**\n",
        "\n",
        "* An **abstract class** is a class that **cannot be directly used to create objects**. It’s used as a **base class** and has one or more **abstract methods** (methods without code).\n",
        "\n",
        "Use: It forces child classes to implement certain methods.\n",
        "\n",
        "Example\n",
        "\n",
        "```python\n",
        "\n",
        "from abc import ABC, abstractmethod\n",
        "\n",
        "class Animal(ABC):\n",
        "    @abstractmethod\n",
        "    def sound(self):\n",
        "        pass\n",
        "\n",
        "class Dog(Animal):\n",
        "    def sound(self):\n",
        "        print(\"Bark\")\n",
        "\n",
        "d = Dog()\n",
        "d.sound()\n",
        "\n",
        "```\n",
        "\n",
        "`Animal` is abstract. You **must define** `sound()` in any child class like `Dog`.\n"
      ],
      "metadata": {
        "id": "tLS6pTMQTIIt"
      }
    },
    {
      "cell_type": "markdown",
      "source": [
        "# Q16. What are the advantages of OOP?\n",
        "\n",
        "Advantages of OOP (Object-Oriented Programming):\n",
        "\n",
        "1. **Code Reuse** – Use the same code again with inheritance.\n",
        "2. **Easy to Maintain** – Code is organized in classes, so it’s cleaner.\n",
        "3. **Modularity** – Each part (class) works independently.\n",
        "4. **Flexibility** – Polymorphism allows one interface for many uses.\n",
        "5. **Security** – Encapsulation hides sensitive data.\n",
        "6. **Scalability** – Easy to add new features without breaking old code.\n",
        "\n",
        "\n"
      ],
      "metadata": {
        "id": "vcQVmzb4VGT1"
      }
    },
    {
      "cell_type": "markdown",
      "source": [
        "#Q17. What is the difference between a class variable and an instance variable?\n",
        "\n",
        "* A **class variable** is shared by **all objects** of the class. It is defined **inside the class but outside any method** and is used when a value should be the same for every object. For example, if all students belong to the same school, you can use a class variable for the school name.\n",
        "\n",
        "* An **instance variable** is **unique to each object**. It is defined **inside methods** (usually inside `__init__`) using `self`, and it stores data specific to that object. For example, each student will have their own name, so `name` would be an instance variable.\n",
        "\n",
        "```python\n",
        "class Student:\n",
        "\n",
        "    school = \"PW School\"  # class variable\n",
        "\n",
        "    def __init__(self, name):\n",
        "        self.name = name   # instance variable\n",
        "\n",
        "s1 = Student(\"Yash\")\n",
        "s2 = Student(\"Amit\")\n",
        "\n",
        "print(s1.school)   # ABC School (shared)\n",
        "print(s2.name)     # Amit (unique)\n",
        "\n",
        "```\n",
        "`School` is same for all, but `name` is different for each student.\n",
        "\n"
      ],
      "metadata": {
        "id": "AdxdjUwCWxeW"
      }
    },
    {
      "cell_type": "markdown",
      "source": [
        "# Q18. What is multiple inheritance in Python?\n",
        "\n",
        "\n",
        "**Multiple Inheritance**\n",
        "\n",
        "* **Multiple inheritance** means a class can **inherit from more than one parent class**. This allows the child class to use features (methods and variables) from **all parent classes**.\n",
        "\n",
        "Example:\n",
        "\n",
        "```python\n",
        "class Father:\n",
        "    def skills(self):\n",
        "        print(\"Gardening\")\n",
        "\n",
        "class Mother:\n",
        "    def skills(self):\n",
        "        print(\"Cooking\")\n",
        "\n",
        "class Child(Father, Mother):\n",
        "    pass\n",
        "\n",
        "c = Child()\n",
        "c.skills()  # Output: Gardening (from first parent in order)\n",
        "\n",
        "```\n",
        "\n",
        "Here, `Child` inherits from both `Father` and `Mother`.\n",
        "Python uses **left-to-right** order (MRO - Method Resolution Order).\n"
      ],
      "metadata": {
        "id": "U6AO4nTGXiLR"
      }
    },
    {
      "cell_type": "markdown",
      "source": [
        "#Q19. Explain the purpose of ‘__str__’ and ‘__repr__’ ‘ methods in Python?\n",
        "\n",
        "\n",
        "Purpose of `__str__` and `__repr__` in Python:\n",
        "\n",
        "* `__str__` is used to return a **user-friendly string** of the object, usually for printing.\n",
        "\n",
        "* `__repr__` is used to return a **developer-friendly string** that shows how to recreate the object.\n",
        "\n",
        "Example:\n",
        "\n",
        "```python\n",
        "class Book:\n",
        "\n",
        "    def __init__(self, title):\n",
        "        self.title = title\n",
        "\n",
        "    def __str__(self):\n",
        "        return f\"Book: {self.title}\"\n",
        "\n",
        "    def __repr__(self):\n",
        "        return f\"Book('{self.title}')\"\n",
        "\n",
        "b = Book(\"Python Basics\")\n",
        "print(str(b))   # Book: Python Basics\n",
        "print(repr(b))  # Book('Python Basics')\n",
        "\n",
        "```\n",
        "Use `__str__` for display, `__repr__` for debugging or logging.\n"
      ],
      "metadata": {
        "id": "UHN8w1MgX9Rr"
      }
    },
    {
      "cell_type": "markdown",
      "source": [
        "#Q20. What is the significance of the ‘super()’ function in Python?\n",
        "\n",
        "`super()` in Python\n",
        "\n",
        "* The `super()` function is used to **call a method from the parent class** in a child class.\n",
        "\n",
        "\n",
        "* To **reuse code** from the parent class\n",
        "* To **extend** the behavior, not replace it\n",
        "* Especially useful in **inheritance**\n",
        "\n",
        "Example:\n",
        "\n",
        "```python\n",
        "\n",
        "class Animal:\n",
        "    def __init__(self):\n",
        "        print(\"Animal created\")\n",
        "\n",
        "class Dog(Animal):\n",
        "    def __init__(self):\n",
        "        super().__init__()  # Calls Animal's __init__\n",
        "        print(\"Dog created\")\n",
        "\n",
        "d = Dog()\n",
        "\n",
        "```\n",
        "\n",
        "Output:\n",
        "\n",
        "```\n",
        "Animal created\n",
        "Dog created\n",
        "\n",
        "```\n",
        "\n",
        "`super()` lets the **child class reuse the parent’s code** easily.\n"
      ],
      "metadata": {
        "id": "KLMqhFxOZTOV"
      }
    },
    {
      "cell_type": "markdown",
      "source": [
        "# Q21.What is the significance of the __del__ method in Python?\n",
        "\n",
        "`__del__` Method in Python\n",
        "\n",
        "* The `__del__` method is a **destructor**. It runs **automatically** when an object is about to be **deleted** or **destroyed**.\n",
        "\n",
        "Why use it?\n",
        "\n",
        "* To **clean up resources** like files or network connections\n",
        "* To **print a message** when an object is deleted (for debugging)\n",
        "\n",
        "Example:\n",
        "\n",
        "```python\n",
        "\n",
        "class Demo:\n",
        "    def __del__(self):\n",
        "        print(\"Object deleted\")\n",
        "\n",
        "d = Demo()\n",
        "del d  # Manually deleting the object\n",
        "\n",
        "```\n",
        "Output:\n",
        "\n",
        "```\n",
        "Object deleted\n",
        "\n",
        "```\n",
        "\n"
      ],
      "metadata": {
        "id": "gtb2D8TBbQjW"
      }
    },
    {
      "cell_type": "markdown",
      "source": [
        "#Q22. What is the difference between @staticmethod and @classmethod in Python?\n",
        "\n",
        "`Class Method`\n",
        "\n",
        "* Works with the class (cls), not the object.\n",
        "* Defined using @classmethod.\n",
        "* Can access or modify class variables.\n",
        "\n",
        "`Static Method`\n",
        "\n",
        "* Doesn't use self or cls.\n",
        "* Defined using @staticmethod.\n",
        "* Acts like a regular function inside a class.\n",
        "\n",
        "Example:\n",
        "\n",
        "```python\n",
        "\n",
        "class MyClass:\n",
        "    class_var = 0\n",
        "\n",
        "    @classmethod\n",
        "    def show_class(cls):\n",
        "        print(\"Class method:\", cls.class_var)\n",
        "\n",
        "    @staticmethod\n",
        "    def greet():\n",
        "        print(\"Static method: Hello!\")\n",
        "\n",
        "MyClass.show_class()  \n",
        "MyClass.greet()       \n",
        "\n",
        "```\n",
        "Output\n",
        "\n",
        "```\n",
        "Class method: 0\n",
        "Static method: Hello!\n",
        "\n",
        "```"
      ],
      "metadata": {
        "id": "nQFmKEPfb_9O"
      }
    },
    {
      "cell_type": "markdown",
      "source": [
        "#Q23. How does polymorphism work in Python with inheritance?\n",
        "\n",
        "``Polymorphism with Inheritance in Python``\n",
        "\n",
        "* Polymorphism allows **different classes** to have methods with the **same name**, and **Python will call the correct one** based on the object.\n",
        "\n",
        "* When used with **inheritance**, a child class can **override** a method from the parent class, and Python will **dynamically decide** which method to run.\n",
        "\n",
        "Example:\n",
        "\n",
        "```python\n",
        "class Animal:\n",
        "    def speak(self):\n",
        "        print(\"Animal speaks\")\n",
        "\n",
        "class Dog(Animal):\n",
        "    def speak(self):\n",
        "        print(\"Dog barks\")\n",
        "\n",
        "class Cat(Animal):\n",
        "    def speak(self):\n",
        "        print(\"Cat meows\")\n",
        "\n",
        "# Polymorphism in action\n",
        "animals = [Dog(), Cat()]\n",
        "\n",
        "for animal in animals:\n",
        "    animal.speak()\n",
        "```\n",
        "\n",
        "Output:\n",
        "\n",
        "```\n",
        "Dog barks  \n",
        "Cat meows\n",
        "\n",
        "```\n",
        "The `speak()` method is **same in name** but behaves **differently** depending on the object type — that’s **polymorphism with inheritance**.\n"
      ],
      "metadata": {
        "id": "z7VyvDbWcpLK"
      }
    },
    {
      "cell_type": "markdown",
      "source": [
        "#Q24.  What is method chaining in Python OOP?\n",
        "\n",
        "## **Method Chaining in Python (OOP)**\n",
        "\n",
        "**Method chaining** means calling **multiple methods one after another** on the **same object** in a **single line**.\n",
        "\n",
        "How it works:\n",
        "\n",
        "Each method **returns `self`**, so the next method can be called on it.\n",
        "\n",
        "##Example:\n",
        "\n",
        "```python\n",
        "\n",
        "class Person:\n",
        "    def __init__(self, name):\n",
        "        self.name = name\n",
        "\n",
        "    def greet(self):\n",
        "        print(f\"Hi, I'm {self.name}\")\n",
        "        return self\n",
        "\n",
        "    def walk(self):\n",
        "        print(f\"{self.name} is walking\")\n",
        "        return self\n",
        "\n",
        "p = Person(\"Yash\")\n",
        "p.greet().walk()  #Method chaining\n",
        "\n",
        "```\n",
        "Output:\n",
        "\n",
        "```\n",
        "Hi, I'm Yash  \n",
        "Yash is walking\n",
        "\n",
        "```\n"
      ],
      "metadata": {
        "id": "s5oGrxMPc9vW"
      }
    },
    {
      "cell_type": "markdown",
      "source": [
        "#Q25. What is the purpose of the __call__ method in Python?\n",
        "\n",
        "## `__call__` Method in Python**\n",
        "\n",
        "The `__call__` method allows an **object to be used like a function**.\n",
        "\n",
        "Purpose:\n",
        "\n",
        "When you define `__call__` in a class, you can **\"call\" the object** with parentheses `()` — just like calling a function.\n",
        "\n",
        "Example:\n",
        "\n",
        "```python\n",
        "\n",
        "class Greet:\n",
        "    def __call__(self, name):\n",
        "        print(f\"Hello, {name}!\")\n",
        "\n",
        "g = Greet()\n",
        "g(\"Yash\")  # Acts like a function\n",
        "\n",
        "```\n",
        "Output:\n",
        "\n",
        "```\n",
        "Hello, Yash!\n",
        "\n",
        "```\n",
        "We use `__call__` when you want your object to **behave like a function**.\n"
      ],
      "metadata": {
        "id": "AE_oGkFhe6VX"
      }
    }
  ]
}