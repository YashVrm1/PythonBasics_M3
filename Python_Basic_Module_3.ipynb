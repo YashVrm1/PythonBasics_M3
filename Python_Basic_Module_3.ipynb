{
  "nbformat": 4,
  "nbformat_minor": 0,
  "metadata": {
    "colab": {
      "provenance": []
    },
    "kernelspec": {
      "name": "python3",
      "display_name": "Python 3"
    },
    "language_info": {
      "name": "python"
    }
  },
  "cells": [
    {
      "cell_type": "markdown",
      "source": [
        "#**YASH VERMA - MODULE 3 - ASSIGNMENT 1**"
      ],
      "metadata": {
        "id": "SGfhE2Fh4eyJ"
      }
    },
    {
      "cell_type": "markdown",
      "source": [
        "#Python Basics Questions\n"
      ],
      "metadata": {
        "id": "vv5MJuOm_kj6"
      }
    },
    {
      "cell_type": "markdown",
      "source": [
        "# Q1. What is Python, and why is it Popular?\n",
        "\n",
        "* Python is a Programming Language which is used by humans in order to give instructions to computer which he understands.\n",
        "\n",
        "#Why it is Popular\n",
        "\n",
        "* There are several reasons.\n",
        "\n",
        "1.   Huge Libraries Ecosystem: Python has powerful libraries built specifically for different task: Numpy, Panda, Matplotlib etc.\n",
        "\n",
        "2.   Active Community: Being open source python has millions of contributors which means --> Tons of tutorials, frequent update and bug fixes etc.\n",
        "\n",
        "3.   Versatile for Full work flow: Extract, clean, process data, train ML, Visualize insight.\n",
        "\n",
        "4.   Intergration friendly: Python can blend easily with Excel, SQL, Web Services, Other languages like (C, C++ etc).\n",
        "\n",
        "5.   Easy to learn langugae: Pyhton syntax is easy to learn and understand because it feels close to natural language.\n",
        "\n",
        "\n",
        "\n",
        "  \n",
        "\n",
        "\n",
        "\n"
      ],
      "metadata": {
        "id": "WfVN0caGt0IB"
      }
    },
    {
      "cell_type": "markdown",
      "source": [
        "#Q.2 What is an interpreter in Python?\n",
        "\n",
        "* Python is an interpreted language which means its interpreter execute the source code line by line.\n",
        "* Source code gets converted into byte-code.\n",
        "* This bytecode is then executed by the Python Virtual Machine (PVM)—not directly converted into machine code like in C.\n",
        "* Because of this python is more flexible and easier to debug, but generally slower than compiled language.\n",
        "\n",
        "\n",
        "\n",
        "\n",
        "\n",
        "\n"
      ],
      "metadata": {
        "id": "07PoPjSY4ePi"
      }
    },
    {
      "cell_type": "markdown",
      "source": [
        "# Q.3 What are pre-defined keywords in Python?\n",
        "\n",
        "*   Pre defined keywords are reserved words syntax in Python which cant be used as identifiers of any type be it variable name or function name. Every Keywords have specific function which they perform.\n",
        "\n",
        "* Python has a set of keywords that are built into the language and recognized by the interpreter.\n",
        "\n",
        "* Example: - if-elif-else, def, import etc."
      ],
      "metadata": {
        "id": "u8q1bQal4cC0"
      }
    },
    {
      "cell_type": "markdown",
      "source": [
        "#Q.4 Can keywords be used as variable names?\n",
        "\n",
        "* No, keywords cant be used as variable names because python has a set of keywords that are built into the language and recognized by interpreter."
      ],
      "metadata": {
        "id": "cdz4ORAf8WdO"
      }
    },
    {
      "cell_type": "markdown",
      "source": [
        "# Q.5 What is mutability in Python?\n",
        "\n",
        "* Mutability: - It means changing content of an object after it has been created. You can change there content but they stay at the same memory location\n",
        "* Example: - List, Dictionary, Sets these are all mutable objects."
      ],
      "metadata": {
        "id": "4jedvx89-vQM"
      }
    },
    {
      "cell_type": "markdown",
      "source": [
        "#Q.6 Why are lists mutable, but tuples are immutable?\n",
        "\n",
        "* List are mutable because they are designed to let you change, add, update or remove elements after creation. Python allocates extra spaces so that update can happen without changing the memory location.\n",
        "\n",
        "* Tuples are immutable, meaning their contents cant be changed once created. This helps keep them fast, safe, and hashable (useful as dictionary keys).\n",
        "\n"
      ],
      "metadata": {
        "id": "DznMjBPl_qDK"
      }
    },
    {
      "cell_type": "markdown",
      "source": [
        "# Q.7 What is the difference between “==” and “is” operators in Python?\n",
        "\n",
        "* **\"==\"** check the whether the value of two objects are same.\n",
        "* **\"is\"** check whether two objects shares same memory location or not."
      ],
      "metadata": {
        "id": "YXwMn_bMA4ZF"
      }
    },
    {
      "cell_type": "markdown",
      "source": [
        "#Q.8 What are logical operators in Python?\n",
        "\n",
        "* Logical operator are used to combine and compare conditions\n",
        " - They help us decide that something should happen or not based on conditions.\n",
        "* There are three logical operators.\n",
        "  - \"and\" --> True if both conditions are true.\n",
        "  - \"or\" --> True if atleast one condition is true.\n",
        "  - \"not\" --> Reverse the value.\n",
        "\n",
        "Example: -\n",
        "\n",
        "x = 10\n",
        "print(x > 5 and x < 20) --> #output True.\n",
        "\n",
        "x = 10\n",
        "print(x < 5 and x < 15) --> #output True.\n",
        "\n",
        "x = 10\n",
        "print(not x > 5) --> #output False."
      ],
      "metadata": {
        "id": "Gzn_SNTuBVXj"
      }
    },
    {
      "cell_type": "markdown",
      "source": [
        "# Q.9 What is type casting in Python?\n",
        "\n",
        "* Type casting means converting a value from one data type to another.\n",
        " - There are two types of Type casting:\n",
        "   - Explicit Type Casting.\n",
        "   - Implicit Type Casting."
      ],
      "metadata": {
        "id": "w6w2IpV6Iw2K"
      }
    },
    {
      "cell_type": "markdown",
      "source": [
        "#Q.10 What is the difference between implicit and explicit type casting?\n",
        "\n",
        "*  Type casting means converting a value from one data type to another.\n",
        "     - There are two types of Type casting:\n",
        "\n",
        "          - Explicit Type Casting: - In ETC use manually convert the data type using functions like int(), float(), bool(), str().\n",
        "\n",
        "          - Implicit Type Casting: - In ITC python automatically changes the data type during operartions if needed.\n",
        "\n",
        "            - Example: - x = 10\n",
        "                         y = 10.5\n",
        "                         result = x + y\n",
        "                         print(result) ---> #output 20.5 (Here it converted int x into float automatically).\n",
        "\n",
        "\n",
        "                        \n"
      ],
      "metadata": {
        "id": "s5exI-fnJP_3"
      }
    },
    {
      "cell_type": "markdown",
      "source": [
        "# Q.11 What is the purpose of conditional statements in Python\n",
        "\n",
        "* Conditional statements allow your program to make decisions and control the flow based on different situations. Without them your code would run the same way, like a robot blindly following fixed steps.\n",
        "\n",
        "* With conditional statements, you can handle different cases (like if something is true, do this; otherwise, do something else). This makes your program smart and flexible.\n",
        "\n",
        "Example of conditional statements: -\n",
        "\n",
        " -\n",
        "        age = 18\n",
        "        if age < 18:\n",
        "          print(\"You are a minor.\")\n",
        "        elif age == 18:\n",
        "          print(\"You just became an adult!\")\n",
        "        else:\n",
        "          print(\"You are an adult.\")"
      ],
      "metadata": {
        "id": "uGg84inRKUVi"
      }
    },
    {
      "cell_type": "markdown",
      "source": [
        "# Q. 12 How does the elif statement work?\n",
        "\n",
        "* The elif statement means \"else if\".\n",
        "* It is used after an if statement to check another condition if the first one is False.\n",
        "* You can use multiple elif to check different conditions one by one.\n",
        "* As soon as one condition is True, Python runs that block and skips the rest.\n"
      ],
      "metadata": {
        "id": "oamiYOjpLnqF"
      }
    },
    {
      "cell_type": "markdown",
      "source": [
        "# Q.13 What is the difference between for and while loops?\n",
        "\n",
        "*  Loops let you execute a code of block repeatedly --> either for fixed number of time or as long as the condition is True.\n",
        "\n",
        "* Istead of writing code again and again you use loop to do it automatically.\n",
        "\n",
        "  - For Loop: - It is used when you know how many times you want to execute the block repeatedly.\n",
        "\n",
        "Example: -\n",
        "\n",
        "       for i in range(5).\n",
        "       print(i) --> This Loop runs exactly 5 times.\n",
        "       \n",
        "While Loop: - It is used when you want execute the block repeatedly until the conditions fails.\n",
        "\n",
        "-\n",
        "      n = int (input(\"Enter Number: \"))\n",
        "      while (n < 3 and n % 2 == 0):\n",
        "        print(\" Invalid Number enter odd number greater than 3\")\n",
        "        n = int (input(\"Enter Number: \"))\n"
      ],
      "metadata": {
        "id": "mSYt3pTMMHB0"
      }
    },
    {
      "cell_type": "markdown",
      "source": [
        "#Q.14 Describe a scenario where a while loop is more suitable than a for loop?\n",
        "\n",
        "Loops let you execute a code of block repeatedly --> either for fixed number of time or as long as the condition is True.\n",
        "\n",
        "Istead of writing code again and again you use loop to do it automatically.\n",
        "\n",
        "* For Loop: - It is used when you know how many times you want to execute the block repeatedly.\n",
        "\n",
        "*  Example: -\n",
        "              for i in range(5).\n",
        "              print(i) --> This Loop runs exactly 5 times.\n",
        "\n",
        "* While Loop: - It is used when you want execute the block repeatedly until the conditions fails.\n",
        "\n",
        "-\n",
        "      n = int (input(\"Enter Number: \"))\n",
        "      while (n < 3 and n % 2 == 0):\n",
        "        print(\" Invalid Number enter odd number greater than 3\")\n",
        "        n = int (input(\"Enter Number: \"))"
      ],
      "metadata": {
        "id": "yCYdNrpAP4jJ"
      }
    },
    {
      "cell_type": "markdown",
      "source": [
        "#Practical Questions\n"
      ],
      "metadata": {
        "id": "yzCzSDYsSKkZ"
      }
    },
    {
      "cell_type": "code",
      "source": [
        "#Q1. Write a Python program to print \"Hello, World!\n",
        "\n",
        "print(\"Hello, World!\")"
      ],
      "metadata": {
        "colab": {
          "base_uri": "https://localhost:8080/"
        },
        "id": "B4eF9-QlSnjI",
        "outputId": "461a5a69-1aa5-4554-dfef-c40faaea4bdc"
      },
      "execution_count": null,
      "outputs": [
        {
          "output_type": "stream",
          "name": "stdout",
          "text": [
            "Hello, World!\n"
          ]
        }
      ]
    },
    {
      "cell_type": "code",
      "source": [
        "#Q2. Write a Python program that displays your name and age?\n",
        "\n",
        "name = \"Yash\"\n",
        "age = 28\n",
        "print(\"Name:\",name)\n",
        "print(\"Age:\",age)"
      ],
      "metadata": {
        "colab": {
          "base_uri": "https://localhost:8080/"
        },
        "id": "B_XxgTgoSwQu",
        "outputId": "73df66f1-46b8-4e55-850e-9e9ca41ea3fc"
      },
      "execution_count": null,
      "outputs": [
        {
          "output_type": "stream",
          "name": "stdout",
          "text": [
            "Name: Yash\n",
            "Age: 28\n"
          ]
        }
      ]
    },
    {
      "cell_type": "code",
      "source": [
        "'''Q.3 Write code to print all the pre-defined keywords in Python using\n",
        "the keyword library?'''\n",
        "\n",
        "help('keywords')"
      ],
      "metadata": {
        "colab": {
          "base_uri": "https://localhost:8080/"
        },
        "id": "xlYC8225TMTT",
        "outputId": "976c6481-786c-4b1c-ba58-d280a9ce014e"
      },
      "execution_count": null,
      "outputs": [
        {
          "output_type": "stream",
          "name": "stdout",
          "text": [
            "\n",
            "Here is a list of the Python keywords.  Enter any keyword to get more help.\n",
            "\n",
            "False               class               from                or\n",
            "None                continue            global              pass\n",
            "True                def                 if                  raise\n",
            "and                 del                 import              return\n",
            "as                  elif                in                  try\n",
            "assert              else                is                  while\n",
            "async               except              lambda              with\n",
            "await               finally             nonlocal            yield\n",
            "break               for                 not                 \n",
            "\n"
          ]
        }
      ]
    },
    {
      "cell_type": "code",
      "source": [
        "#Q4 Write a program that checks if a given word is a Python keyword.\n",
        "\n",
        "import keyword\n",
        "\n",
        "word = input(\"Enter a word to check whether its a keyword or not: \")\n",
        "if keyword.iskeyword(word):\n",
        "  print(f\"{word} is a pre-defined keyword.\")\n",
        "else:\n",
        "  print(f\"{word} is not a Python keyword.\")\n",
        "\n"
      ],
      "metadata": {
        "colab": {
          "base_uri": "https://localhost:8080/"
        },
        "id": "neaudjSJT8M_",
        "outputId": "c74020d9-e86e-4c9d-a55b-9935cd8736a0"
      },
      "execution_count": null,
      "outputs": [
        {
          "output_type": "stream",
          "name": "stdout",
          "text": [
            "Enter a word to check whether its a keyword or not: import\n",
            "import is a pre-defined keyword.\n"
          ]
        }
      ]
    },
    {
      "cell_type": "code",
      "source": [
        "'''Q5. Create a list and tuple in Python, and demonstrate how attempting to\n",
        "change an element works differently for each '''\n",
        "\n",
        "l = [1,2,3,4,\"a\", True, False, 1,2.5, 2+3j]\n",
        "t = (1,2,\"b\", \"c\", True, False, 2.8, 3+4j)\n",
        "l.append(\"pwskills\") #List is mutable we can change, add, remove, update items.\n",
        "# t.append(\"pwskills\") Tuples are immutable we cant do that - Throws Error.\n",
        "print(l)\n",
        "print(t)"
      ],
      "metadata": {
        "colab": {
          "base_uri": "https://localhost:8080/"
        },
        "id": "h1M_TGfrWSta",
        "outputId": "6acdaaf7-986a-43ae-db19-06a2dd9648a3"
      },
      "execution_count": null,
      "outputs": [
        {
          "output_type": "stream",
          "name": "stdout",
          "text": [
            "[1, 2, 3, 4, 'a', True, False, 1, 2.5, (2+3j), 'pwskills']\n",
            "(1, 2, 'b', 'c', True, False, 2.8, (3+4j))\n"
          ]
        }
      ]
    },
    {
      "cell_type": "code",
      "source": [
        "'''Q.6 Write a function to demonstrate the behavior of mutable and immutable\n",
        "arguments. '''\n",
        "\n",
        "phonebook = {\"Friend1\": \"123456789\", \"Friend2\": \"789456123\", \"Friend3\": \"987654321\"}\n",
        "\n",
        "def add_new_friend(pb):\n",
        "    pb[\"Friend4\"] = \"111222333\"\n",
        "\n",
        "add_new_friend(phonebook)\n",
        "print(phonebook)\n",
        "\n",
        "name = \"Data\"\n",
        "def change_name(n):\n",
        "    n = n + \" Science\"  # n = n + \" Science\" creates a new string\n",
        "    print(\"Inside function:\", n) # It does not change the original name\n",
        "\n",
        "change_name(name)\n",
        "print(\"Outside function:\", name) # Outside the function, the old value \"Data\" stays as it is\n"
      ],
      "metadata": {
        "colab": {
          "base_uri": "https://localhost:8080/"
        },
        "id": "ZewOnm2VX64y",
        "outputId": "9a64ef55-4b4b-43a4-8959-416a536c6768"
      },
      "execution_count": null,
      "outputs": [
        {
          "output_type": "stream",
          "name": "stdout",
          "text": [
            "{'Friend1': '123456789', 'Friend2': '789456123', 'Friend3': '987654321', 'Friend4': '111222333'}\n",
            "Inside function: Data Science\n",
            "Outside function: Data\n"
          ]
        }
      ]
    },
    {
      "cell_type": "code",
      "source": [
        "# Q7. Write a program that performs basic arithmetic operations on two user-input numbers.\n",
        "\n",
        "a = int(input(\"Enter number a: \"))\n",
        "b = int(input(\"Enter number b: \"))\n",
        "c = a + b\n",
        "print(\"The Answer is:\", c)"
      ],
      "metadata": {
        "colab": {
          "base_uri": "https://localhost:8080/"
        },
        "id": "GJBQ3ywvdewD",
        "outputId": "ea68f943-7562-4a7b-853b-3a0be2c8fa4a"
      },
      "execution_count": null,
      "outputs": [
        {
          "output_type": "stream",
          "name": "stdout",
          "text": [
            "Enter number a: 10\n",
            "Enter number b: 1500\n",
            "The Answer is: 1510\n"
          ]
        }
      ]
    },
    {
      "cell_type": "code",
      "source": [
        "# Q8. 8. Write a program to demonstrate the use of logical operators.\n",
        "\n",
        "n = int(input(\"Enter number n: \"))\n",
        "for row in range(n):\n",
        "  for col in range(n):\n",
        "    if(row == 0 or row == n-1 or col == 0 or col == n-1):\n",
        "      print(\"*\", end = \" \")\n",
        "    else:\n",
        "      print(\" \", end = \" \")\n",
        "  print()\n",
        "\n"
      ],
      "metadata": {
        "colab": {
          "base_uri": "https://localhost:8080/"
        },
        "id": "mRlBkaiWfWOG",
        "outputId": "684d0bc1-12d9-422b-88dc-f29f71c5d459"
      },
      "execution_count": null,
      "outputs": [
        {
          "output_type": "stream",
          "name": "stdout",
          "text": [
            "Enter number n: 5\n",
            "* * * * * \n",
            "*       * \n",
            "*       * \n",
            "*       * \n",
            "* * * * * \n"
          ]
        }
      ]
    },
    {
      "cell_type": "code",
      "source": [
        "# Q9. Write a Python program to convert user input from string to integer, float, and boolean types.\n",
        "\n",
        "a = input(\"Enter a: \")\n",
        "int_value = int(a)\n",
        "print(int_value)\n",
        "\n",
        "b = input(\"Enter a: \")\n",
        "float_value = float(b)\n",
        "print(float_value)\n",
        "1\n",
        "c = input(\"Enter a: \")\n",
        "bool_value = int(c)\n",
        "print(bool(bool_value))"
      ],
      "metadata": {
        "colab": {
          "base_uri": "https://localhost:8080/"
        },
        "id": "O9CSIB_7gGnx",
        "outputId": "40215b79-7fca-4abd-f722-a2517dbc1fe2"
      },
      "execution_count": null,
      "outputs": [
        {
          "output_type": "stream",
          "name": "stdout",
          "text": [
            "5\n",
            "5.0\n",
            "Enter a: 5\n",
            "True\n"
          ]
        }
      ]
    },
    {
      "cell_type": "code",
      "source": [
        "# Q10. Write code to demonstrate type casting with list elements.\n",
        "\n",
        "l = [3.5, 4, \"1\", True, 3+4j, 5+6j, 4+5j]\n",
        "print(int(l[0]))\n",
        "print(float(l[1]))\n",
        "print(bool(l[2]))\n",
        "print(int(l[3]))\n",
        "print(int(l[4].real))\n",
        "print(str(l[5]))\n",
        "print(bool(l[6]))\n",
        "\n"
      ],
      "metadata": {
        "colab": {
          "base_uri": "https://localhost:8080/"
        },
        "id": "nAXPjvJJCapP",
        "outputId": "85a7c974-0acc-4e85-f0fa-6c5f34fd228b"
      },
      "execution_count": null,
      "outputs": [
        {
          "output_type": "stream",
          "name": "stdout",
          "text": [
            "3\n",
            "4.0\n",
            "True\n",
            "1\n",
            "3\n",
            "(5+6j)\n",
            "True\n"
          ]
        }
      ]
    },
    {
      "cell_type": "code",
      "source": [
        "# Q11. Write a program that checks if a number is positive, negative, or zero.\n",
        "\n",
        "n = int(input(\"Enter number: \"))\n",
        "if(n > 0):\n",
        "  print(f\"{n} is a positive number\")\n",
        "elif(n < 0):\n",
        "  print(f\"{n} is a negative number\")\n",
        "else:\n",
        "  print(\"Number entered is Zero\")"
      ],
      "metadata": {
        "id": "Tu80omwnCloa",
        "colab": {
          "base_uri": "https://localhost:8080/"
        },
        "outputId": "8d109d67-5b48-4e0f-f5c8-07723e1dd0f8"
      },
      "execution_count": null,
      "outputs": [
        {
          "output_type": "stream",
          "name": "stdout",
          "text": [
            "Enter number: 0\n",
            "Number entered is Zero\n"
          ]
        }
      ]
    },
    {
      "cell_type": "code",
      "source": [
        "# Q12. Write a for loop to print numbers from 1 to 10\n",
        "\n",
        "for i in range(1,11):\n",
        "  print(i)\n"
      ],
      "metadata": {
        "colab": {
          "base_uri": "https://localhost:8080/"
        },
        "id": "jfWaslwbFwxR",
        "outputId": "961f5f6e-309a-48f3-9250-9e53688a3341"
      },
      "execution_count": null,
      "outputs": [
        {
          "output_type": "stream",
          "name": "stdout",
          "text": [
            "1\n",
            "2\n",
            "3\n",
            "4\n",
            "5\n",
            "6\n",
            "7\n",
            "8\n",
            "9\n",
            "10\n"
          ]
        }
      ]
    },
    {
      "cell_type": "code",
      "source": [
        "# Q13. Write a Python program to find the sum of all even numbers between 1 and 50.\n",
        "\n",
        "sum = 0\n",
        "for i in range(2,52,2):\n",
        "  sum += i\n",
        "print(\"Sum of all even numbers between 1 and 50 is: \", sum)"
      ],
      "metadata": {
        "colab": {
          "base_uri": "https://localhost:8080/"
        },
        "id": "W4jsoMfIGkKd",
        "outputId": "9d059bd2-c33f-4cda-fe54-c09659e265c8"
      },
      "execution_count": null,
      "outputs": [
        {
          "output_type": "stream",
          "name": "stdout",
          "text": [
            "Sum of all even numbers between 1 and 50 is:  650\n"
          ]
        }
      ]
    },
    {
      "cell_type": "code",
      "source": [
        "# Q14. Write a program to reverse a string using a while loop.\n",
        "\n",
        "String = \"pwskills\"\n",
        "while True:\n",
        "  print(String[::-1])\n",
        "  break\n",
        "print(\"String reversed\")\n"
      ],
      "metadata": {
        "colab": {
          "base_uri": "https://localhost:8080/"
        },
        "id": "N6HsZnvYIJFG",
        "outputId": "1da3d25d-f6cd-4182-90a9-5effd2d63c95"
      },
      "execution_count": null,
      "outputs": [
        {
          "output_type": "stream",
          "name": "stdout",
          "text": [
            "sllikswp\n",
            "String reversed\n"
          ]
        }
      ]
    },
    {
      "cell_type": "code",
      "source": [
        "#15. Write a Python program to calculate the factorial of a number provided by the user using a while loop.\n",
        "\n",
        "n = int(input(\"Enter Number: \"))\n",
        "if n < 0:\n",
        "    print(\"Factorial is not defined for negative numbers.\")\n",
        "else:\n",
        "  i= 1\n",
        "  total = 1\n",
        "  while (i <= n):\n",
        "    total *= i\n",
        "    i+= 1\n",
        "  print(\"Factorial of n is\", total)\n",
        "\n",
        "\n",
        "\n"
      ],
      "metadata": {
        "colab": {
          "base_uri": "https://localhost:8080/"
        },
        "id": "PC24NV1KJxKP",
        "outputId": "afe90cf2-3a35-48c5-9663-581554c611da"
      },
      "execution_count": 1,
      "outputs": [
        {
          "output_type": "stream",
          "name": "stdout",
          "text": [
            "Enter Number: 0\n",
            "Factorial of n is 1\n"
          ]
        }
      ]
    }
  ]
}